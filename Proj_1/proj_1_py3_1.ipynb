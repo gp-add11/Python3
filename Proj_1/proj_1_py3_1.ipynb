{
 "cells": [
  {
   "cell_type": "markdown",
   "metadata": {},
   "source": [
    "Eploration of data using np, pd, sns, plt."
   ]
  },
  {
   "cell_type": "code",
   "execution_count": null,
   "metadata": {},
   "outputs": [],
   "source": []
  },
  {
   "cell_type": "code",
   "execution_count": 1,
   "metadata": {},
   "outputs": [],
   "source": [
    "import numpy as np\n",
    "import pandas as pd\n",
    "import matplotlib.pyplot as plt\n",
    "import seaborn as sns\n",
    "%matplotlib inline"
   ]
  },
  {
   "cell_type": "code",
   "execution_count": 2,
   "metadata": {},
   "outputs": [],
   "source": [
    "df1 = pd.read_csv(\"~/Code/Repos/Python/Datasets/2020_07/covid_19_data.csv\", index_col=0)"
   ]
  },
  {
   "cell_type": "code",
   "execution_count": 3,
   "metadata": {},
   "outputs": [
    {
     "data": {
      "text/html": [
       "<div>\n",
       "<style scoped>\n",
       "    .dataframe tbody tr th:only-of-type {\n",
       "        vertical-align: middle;\n",
       "    }\n",
       "\n",
       "    .dataframe tbody tr th {\n",
       "        vertical-align: top;\n",
       "    }\n",
       "\n",
       "    .dataframe thead th {\n",
       "        text-align: right;\n",
       "    }\n",
       "</style>\n",
       "<table border=\"1\" class=\"dataframe\">\n",
       "  <thead>\n",
       "    <tr style=\"text-align: right;\">\n",
       "      <th></th>\n",
       "      <th>ObservationDate</th>\n",
       "      <th>Province/State</th>\n",
       "      <th>Country/Region</th>\n",
       "      <th>Last Update</th>\n",
       "      <th>Confirmed</th>\n",
       "      <th>Deaths</th>\n",
       "      <th>Recovered</th>\n",
       "    </tr>\n",
       "    <tr>\n",
       "      <th>SNo</th>\n",
       "      <th></th>\n",
       "      <th></th>\n",
       "      <th></th>\n",
       "      <th></th>\n",
       "      <th></th>\n",
       "      <th></th>\n",
       "      <th></th>\n",
       "    </tr>\n",
       "  </thead>\n",
       "  <tbody>\n",
       "    <tr>\n",
       "      <th>58292</th>\n",
       "      <td>07/06/2020</td>\n",
       "      <td>Yaroslavl Oblast</td>\n",
       "      <td>Russia</td>\n",
       "      <td>2020-07-07 04:34:00</td>\n",
       "      <td>5031.0</td>\n",
       "      <td>19.0</td>\n",
       "      <td>3763.0</td>\n",
       "    </tr>\n",
       "    <tr>\n",
       "      <th>58293</th>\n",
       "      <td>07/06/2020</td>\n",
       "      <td>Yucatan</td>\n",
       "      <td>Mexico</td>\n",
       "      <td>2020-07-07 04:34:00</td>\n",
       "      <td>5229.0</td>\n",
       "      <td>501.0</td>\n",
       "      <td>3611.0</td>\n",
       "    </tr>\n",
       "    <tr>\n",
       "      <th>58294</th>\n",
       "      <td>07/06/2020</td>\n",
       "      <td>Yukon</td>\n",
       "      <td>Canada</td>\n",
       "      <td>2020-07-07 04:34:00</td>\n",
       "      <td>11.0</td>\n",
       "      <td>0.0</td>\n",
       "      <td>11.0</td>\n",
       "    </tr>\n",
       "    <tr>\n",
       "      <th>58295</th>\n",
       "      <td>07/06/2020</td>\n",
       "      <td>Yunnan</td>\n",
       "      <td>Mainland China</td>\n",
       "      <td>2020-07-07 04:34:00</td>\n",
       "      <td>186.0</td>\n",
       "      <td>2.0</td>\n",
       "      <td>183.0</td>\n",
       "    </tr>\n",
       "    <tr>\n",
       "      <th>58296</th>\n",
       "      <td>07/06/2020</td>\n",
       "      <td>Zabaykalsky Krai</td>\n",
       "      <td>Russia</td>\n",
       "      <td>2020-07-07 04:34:00</td>\n",
       "      <td>3399.0</td>\n",
       "      <td>44.0</td>\n",
       "      <td>2329.0</td>\n",
       "    </tr>\n",
       "    <tr>\n",
       "      <th>58297</th>\n",
       "      <td>07/06/2020</td>\n",
       "      <td>Zacatecas</td>\n",
       "      <td>Mexico</td>\n",
       "      <td>2020-07-07 04:34:00</td>\n",
       "      <td>1140.0</td>\n",
       "      <td>112.0</td>\n",
       "      <td>764.0</td>\n",
       "    </tr>\n",
       "    <tr>\n",
       "      <th>58298</th>\n",
       "      <td>07/06/2020</td>\n",
       "      <td>Zakarpattia Oblast</td>\n",
       "      <td>Ukraine</td>\n",
       "      <td>2020-07-07 04:34:00</td>\n",
       "      <td>3375.0</td>\n",
       "      <td>111.0</td>\n",
       "      <td>1001.0</td>\n",
       "    </tr>\n",
       "    <tr>\n",
       "      <th>58299</th>\n",
       "      <td>07/06/2020</td>\n",
       "      <td>Zaporizhia Oblast</td>\n",
       "      <td>Ukraine</td>\n",
       "      <td>2020-07-07 04:34:00</td>\n",
       "      <td>597.0</td>\n",
       "      <td>17.0</td>\n",
       "      <td>444.0</td>\n",
       "    </tr>\n",
       "    <tr>\n",
       "      <th>58300</th>\n",
       "      <td>07/06/2020</td>\n",
       "      <td>Zhejiang</td>\n",
       "      <td>Mainland China</td>\n",
       "      <td>2020-07-07 04:34:00</td>\n",
       "      <td>1269.0</td>\n",
       "      <td>1.0</td>\n",
       "      <td>1267.0</td>\n",
       "    </tr>\n",
       "    <tr>\n",
       "      <th>58301</th>\n",
       "      <td>07/06/2020</td>\n",
       "      <td>Zhytomyr Oblast</td>\n",
       "      <td>Ukraine</td>\n",
       "      <td>2020-07-07 04:34:00</td>\n",
       "      <td>1468.0</td>\n",
       "      <td>30.0</td>\n",
       "      <td>950.0</td>\n",
       "    </tr>\n",
       "  </tbody>\n",
       "</table>\n",
       "</div>"
      ],
      "text/plain": [
       "      ObservationDate      Province/State  Country/Region  \\\n",
       "SNo                                                         \n",
       "58292      07/06/2020    Yaroslavl Oblast          Russia   \n",
       "58293      07/06/2020             Yucatan          Mexico   \n",
       "58294      07/06/2020               Yukon          Canada   \n",
       "58295      07/06/2020              Yunnan  Mainland China   \n",
       "58296      07/06/2020    Zabaykalsky Krai          Russia   \n",
       "58297      07/06/2020           Zacatecas          Mexico   \n",
       "58298      07/06/2020  Zakarpattia Oblast         Ukraine   \n",
       "58299      07/06/2020   Zaporizhia Oblast         Ukraine   \n",
       "58300      07/06/2020            Zhejiang  Mainland China   \n",
       "58301      07/06/2020     Zhytomyr Oblast         Ukraine   \n",
       "\n",
       "               Last Update  Confirmed  Deaths  Recovered  \n",
       "SNo                                                       \n",
       "58292  2020-07-07 04:34:00     5031.0    19.0     3763.0  \n",
       "58293  2020-07-07 04:34:00     5229.0   501.0     3611.0  \n",
       "58294  2020-07-07 04:34:00       11.0     0.0       11.0  \n",
       "58295  2020-07-07 04:34:00      186.0     2.0      183.0  \n",
       "58296  2020-07-07 04:34:00     3399.0    44.0     2329.0  \n",
       "58297  2020-07-07 04:34:00     1140.0   112.0      764.0  \n",
       "58298  2020-07-07 04:34:00     3375.0   111.0     1001.0  \n",
       "58299  2020-07-07 04:34:00      597.0    17.0      444.0  \n",
       "58300  2020-07-07 04:34:00     1269.0     1.0     1267.0  \n",
       "58301  2020-07-07 04:34:00     1468.0    30.0      950.0  "
      ]
     },
     "execution_count": 3,
     "metadata": {},
     "output_type": "execute_result"
    }
   ],
   "source": [
    "df1.head(10)\n",
    "df1.tail(10)"
   ]
  },
  {
   "cell_type": "code",
   "execution_count": 4,
   "metadata": {},
   "outputs": [
    {
     "data": {
      "text/plain": [
       "ObservationDate    58301\n",
       "Province/State     36230\n",
       "Country/Region     58301\n",
       "Last Update        58301\n",
       "Confirmed          58301\n",
       "Deaths             58301\n",
       "Recovered          58301\n",
       "dtype: int64"
      ]
     },
     "execution_count": 4,
     "metadata": {},
     "output_type": "execute_result"
    }
   ],
   "source": [
    "df1.count()"
   ]
  },
  {
   "cell_type": "code",
   "execution_count": 5,
   "metadata": {},
   "outputs": [
    {
     "data": {
      "text/html": [
       "<div>\n",
       "<style scoped>\n",
       "    .dataframe tbody tr th:only-of-type {\n",
       "        vertical-align: middle;\n",
       "    }\n",
       "\n",
       "    .dataframe tbody tr th {\n",
       "        vertical-align: top;\n",
       "    }\n",
       "\n",
       "    .dataframe thead th {\n",
       "        text-align: right;\n",
       "    }\n",
       "</style>\n",
       "<table border=\"1\" class=\"dataframe\">\n",
       "  <thead>\n",
       "    <tr style=\"text-align: right;\">\n",
       "      <th></th>\n",
       "      <th>ObservationDate</th>\n",
       "      <th>Province/State</th>\n",
       "    </tr>\n",
       "    <tr>\n",
       "      <th>SNo</th>\n",
       "      <th></th>\n",
       "      <th></th>\n",
       "    </tr>\n",
       "  </thead>\n",
       "  <tbody>\n",
       "    <tr>\n",
       "      <th>1</th>\n",
       "      <td>01/22/2020</td>\n",
       "      <td>Anhui</td>\n",
       "    </tr>\n",
       "    <tr>\n",
       "      <th>2</th>\n",
       "      <td>01/22/2020</td>\n",
       "      <td>Beijing</td>\n",
       "    </tr>\n",
       "    <tr>\n",
       "      <th>3</th>\n",
       "      <td>01/22/2020</td>\n",
       "      <td>Chongqing</td>\n",
       "    </tr>\n",
       "    <tr>\n",
       "      <th>4</th>\n",
       "      <td>01/22/2020</td>\n",
       "      <td>Fujian</td>\n",
       "    </tr>\n",
       "    <tr>\n",
       "      <th>5</th>\n",
       "      <td>01/22/2020</td>\n",
       "      <td>Gansu</td>\n",
       "    </tr>\n",
       "  </tbody>\n",
       "</table>\n",
       "</div>"
      ],
      "text/plain": [
       "    ObservationDate Province/State\n",
       "SNo                               \n",
       "1        01/22/2020          Anhui\n",
       "2        01/22/2020        Beijing\n",
       "3        01/22/2020      Chongqing\n",
       "4        01/22/2020         Fujian\n",
       "5        01/22/2020          Gansu"
      ]
     },
     "execution_count": 5,
     "metadata": {},
     "output_type": "execute_result"
    }
   ],
   "source": [
    "df1.iloc[:,[0,1]].head(5)"
   ]
  },
  {
   "cell_type": "code",
   "execution_count": 6,
   "metadata": {},
   "outputs": [
    {
     "data": {
      "text/plain": [
       "array([3, 3, 3, 3])"
      ]
     },
     "execution_count": 6,
     "metadata": {},
     "output_type": "execute_result"
    }
   ],
   "source": [
    "np.array([3] * 4)"
   ]
  },
  {
   "cell_type": "code",
   "execution_count": 7,
   "metadata": {},
   "outputs": [
    {
     "data": {
      "text/plain": [
       "ObservationDate     object\n",
       "Province/State      object\n",
       "Country/Region      object\n",
       "Last Update         object\n",
       "Confirmed          float64\n",
       "Deaths             float64\n",
       "Recovered          float64\n",
       "dtype: object"
      ]
     },
     "execution_count": 7,
     "metadata": {},
     "output_type": "execute_result"
    }
   ],
   "source": [
    "df1.dtypes"
   ]
  },
  {
   "cell_type": "code",
   "execution_count": 8,
   "metadata": {},
   "outputs": [
    {
     "data": {
      "text/html": [
       "<div>\n",
       "<style scoped>\n",
       "    .dataframe tbody tr th:only-of-type {\n",
       "        vertical-align: middle;\n",
       "    }\n",
       "\n",
       "    .dataframe tbody tr th {\n",
       "        vertical-align: top;\n",
       "    }\n",
       "\n",
       "    .dataframe thead th {\n",
       "        text-align: right;\n",
       "    }\n",
       "</style>\n",
       "<table border=\"1\" class=\"dataframe\">\n",
       "  <thead>\n",
       "    <tr style=\"text-align: right;\">\n",
       "      <th></th>\n",
       "      <th>Confirmed</th>\n",
       "      <th>Deaths</th>\n",
       "      <th>Recovered</th>\n",
       "    </tr>\n",
       "  </thead>\n",
       "  <tbody>\n",
       "    <tr>\n",
       "      <th>count</th>\n",
       "      <td>58301.000000</td>\n",
       "      <td>58301.000000</td>\n",
       "      <td>58301.000000</td>\n",
       "    </tr>\n",
       "    <tr>\n",
       "      <th>mean</th>\n",
       "      <td>9130.529922</td>\n",
       "      <td>525.366820</td>\n",
       "      <td>3912.849214</td>\n",
       "    </tr>\n",
       "    <tr>\n",
       "      <th>std</th>\n",
       "      <td>28976.630502</td>\n",
       "      <td>2460.491322</td>\n",
       "      <td>22018.573738</td>\n",
       "    </tr>\n",
       "    <tr>\n",
       "      <th>min</th>\n",
       "      <td>0.000000</td>\n",
       "      <td>0.000000</td>\n",
       "      <td>0.000000</td>\n",
       "    </tr>\n",
       "    <tr>\n",
       "      <th>25%</th>\n",
       "      <td>82.000000</td>\n",
       "      <td>1.000000</td>\n",
       "      <td>0.000000</td>\n",
       "    </tr>\n",
       "    <tr>\n",
       "      <th>50%</th>\n",
       "      <td>800.000000</td>\n",
       "      <td>12.000000</td>\n",
       "      <td>92.000000</td>\n",
       "    </tr>\n",
       "    <tr>\n",
       "      <th>75%</th>\n",
       "      <td>4457.000000</td>\n",
       "      <td>140.000000</td>\n",
       "      <td>1105.000000</td>\n",
       "    </tr>\n",
       "    <tr>\n",
       "      <th>max</th>\n",
       "      <td>405843.000000</td>\n",
       "      <td>41128.000000</td>\n",
       "      <td>924148.000000</td>\n",
       "    </tr>\n",
       "  </tbody>\n",
       "</table>\n",
       "</div>"
      ],
      "text/plain": [
       "           Confirmed        Deaths      Recovered\n",
       "count   58301.000000  58301.000000   58301.000000\n",
       "mean     9130.529922    525.366820    3912.849214\n",
       "std     28976.630502   2460.491322   22018.573738\n",
       "min         0.000000      0.000000       0.000000\n",
       "25%        82.000000      1.000000       0.000000\n",
       "50%       800.000000     12.000000      92.000000\n",
       "75%      4457.000000    140.000000    1105.000000\n",
       "max    405843.000000  41128.000000  924148.000000"
      ]
     },
     "execution_count": 8,
     "metadata": {},
     "output_type": "execute_result"
    }
   ],
   "source": [
    "df1.describe()"
   ]
  },
  {
   "cell_type": "code",
   "execution_count": 9,
   "metadata": {},
   "outputs": [],
   "source": [
    "series_time = df1.ObservationDate"
   ]
  },
  {
   "cell_type": "code",
   "execution_count": 10,
   "metadata": {},
   "outputs": [
    {
     "data": {
      "text/plain": [
       "SNo\n",
       "1    01/22/2020\n",
       "2    01/22/2020\n",
       "3    01/22/2020\n",
       "4    01/22/2020\n",
       "5    01/22/2020\n",
       "Name: ObservationDate, dtype: object"
      ]
     },
     "execution_count": 10,
     "metadata": {},
     "output_type": "execute_result"
    }
   ],
   "source": [
    "series_time.head()"
   ]
  },
  {
   "cell_type": "code",
   "execution_count": 11,
   "metadata": {},
   "outputs": [
    {
     "data": {
      "text/plain": [
       "pandas.core.series.Series"
      ]
     },
     "execution_count": 11,
     "metadata": {},
     "output_type": "execute_result"
    }
   ],
   "source": [
    "type(series_time)"
   ]
  },
  {
   "cell_type": "code",
   "execution_count": 12,
   "metadata": {},
   "outputs": [],
   "source": [
    "df1_time = pd.DataFrame(series_time)"
   ]
  },
  {
   "cell_type": "code",
   "execution_count": 13,
   "metadata": {},
   "outputs": [
    {
     "data": {
      "text/html": [
       "<div>\n",
       "<style scoped>\n",
       "    .dataframe tbody tr th:only-of-type {\n",
       "        vertical-align: middle;\n",
       "    }\n",
       "\n",
       "    .dataframe tbody tr th {\n",
       "        vertical-align: top;\n",
       "    }\n",
       "\n",
       "    .dataframe thead th {\n",
       "        text-align: right;\n",
       "    }\n",
       "</style>\n",
       "<table border=\"1\" class=\"dataframe\">\n",
       "  <thead>\n",
       "    <tr style=\"text-align: right;\">\n",
       "      <th></th>\n",
       "      <th>ObservationDate</th>\n",
       "    </tr>\n",
       "    <tr>\n",
       "      <th>SNo</th>\n",
       "      <th></th>\n",
       "    </tr>\n",
       "  </thead>\n",
       "  <tbody>\n",
       "    <tr>\n",
       "      <th>1</th>\n",
       "      <td>01/22/2020</td>\n",
       "    </tr>\n",
       "    <tr>\n",
       "      <th>2</th>\n",
       "      <td>01/22/2020</td>\n",
       "    </tr>\n",
       "    <tr>\n",
       "      <th>3</th>\n",
       "      <td>01/22/2020</td>\n",
       "    </tr>\n",
       "    <tr>\n",
       "      <th>4</th>\n",
       "      <td>01/22/2020</td>\n",
       "    </tr>\n",
       "    <tr>\n",
       "      <th>5</th>\n",
       "      <td>01/22/2020</td>\n",
       "    </tr>\n",
       "  </tbody>\n",
       "</table>\n",
       "</div>"
      ],
      "text/plain": [
       "    ObservationDate\n",
       "SNo                \n",
       "1        01/22/2020\n",
       "2        01/22/2020\n",
       "3        01/22/2020\n",
       "4        01/22/2020\n",
       "5        01/22/2020"
      ]
     },
     "execution_count": 13,
     "metadata": {},
     "output_type": "execute_result"
    }
   ],
   "source": [
    "df1_time.head()"
   ]
  },
  {
   "cell_type": "code",
   "execution_count": 14,
   "metadata": {},
   "outputs": [
    {
     "data": {
      "text/plain": [
       "pandas.core.frame.DataFrame"
      ]
     },
     "execution_count": 14,
     "metadata": {},
     "output_type": "execute_result"
    }
   ],
   "source": [
    "type(df1_time)"
   ]
  },
  {
   "cell_type": "code",
   "execution_count": 15,
   "metadata": {},
   "outputs": [],
   "source": [
    "df1_time['ObservationDate'] = pd.to_datetime(df1_time.ObservationDate, format='%m/%d/%Y')"
   ]
  },
  {
   "cell_type": "code",
   "execution_count": 16,
   "metadata": {},
   "outputs": [
    {
     "data": {
      "text/plain": [
       "pandas.core.frame.DataFrame"
      ]
     },
     "execution_count": 16,
     "metadata": {},
     "output_type": "execute_result"
    }
   ],
   "source": [
    "type(df1_time)"
   ]
  },
  {
   "cell_type": "code",
   "execution_count": 17,
   "metadata": {},
   "outputs": [
    {
     "data": {
      "text/plain": [
       "ObservationDate    datetime64[ns]\n",
       "dtype: object"
      ]
     },
     "execution_count": 17,
     "metadata": {},
     "output_type": "execute_result"
    }
   ],
   "source": [
    "df1_time.dtypes"
   ]
  },
  {
   "cell_type": "code",
   "execution_count": 18,
   "metadata": {},
   "outputs": [
    {
     "data": {
      "text/plain": [
       "2.2737367544323206e-11"
      ]
     },
     "execution_count": 18,
     "metadata": {},
     "output_type": "execute_result"
    }
   ],
   "source": [
    "df1_time1 = 2**42\n",
    "100.0/df1_time1"
   ]
  },
  {
   "cell_type": "code",
   "execution_count": 19,
   "metadata": {},
   "outputs": [],
   "source": [
    "df1['ObservationDate'] = pd.to_datetime(df1.ObservationDate, format='%m/%d/%Y')"
   ]
  },
  {
   "cell_type": "code",
   "execution_count": 20,
   "metadata": {},
   "outputs": [
    {
     "data": {
      "text/plain": [
       "ObservationDate    datetime64[ns]\n",
       "Province/State             object\n",
       "Country/Region             object\n",
       "Last Update                object\n",
       "Confirmed                 float64\n",
       "Deaths                    float64\n",
       "Recovered                 float64\n",
       "dtype: object"
      ]
     },
     "execution_count": 20,
     "metadata": {},
     "output_type": "execute_result"
    }
   ],
   "source": [
    "df1.dtypes"
   ]
  },
  {
   "cell_type": "code",
   "execution_count": 21,
   "metadata": {},
   "outputs": [
    {
     "data": {
      "text/html": [
       "<div>\n",
       "<style scoped>\n",
       "    .dataframe tbody tr th:only-of-type {\n",
       "        vertical-align: middle;\n",
       "    }\n",
       "\n",
       "    .dataframe tbody tr th {\n",
       "        vertical-align: top;\n",
       "    }\n",
       "\n",
       "    .dataframe thead th {\n",
       "        text-align: right;\n",
       "    }\n",
       "</style>\n",
       "<table border=\"1\" class=\"dataframe\">\n",
       "  <thead>\n",
       "    <tr style=\"text-align: right;\">\n",
       "      <th></th>\n",
       "      <th>ObservationDate</th>\n",
       "      <th>Province/State</th>\n",
       "      <th>Country/Region</th>\n",
       "      <th>Last Update</th>\n",
       "      <th>Confirmed</th>\n",
       "      <th>Deaths</th>\n",
       "      <th>Recovered</th>\n",
       "    </tr>\n",
       "    <tr>\n",
       "      <th>SNo</th>\n",
       "      <th></th>\n",
       "      <th></th>\n",
       "      <th></th>\n",
       "      <th></th>\n",
       "      <th></th>\n",
       "      <th></th>\n",
       "      <th></th>\n",
       "    </tr>\n",
       "  </thead>\n",
       "  <tbody>\n",
       "    <tr>\n",
       "      <th>1</th>\n",
       "      <td>2020-01-22</td>\n",
       "      <td>Anhui</td>\n",
       "      <td>Mainland China</td>\n",
       "      <td>1/22/2020 17:00</td>\n",
       "      <td>1.0</td>\n",
       "      <td>0.0</td>\n",
       "      <td>0.0</td>\n",
       "    </tr>\n",
       "    <tr>\n",
       "      <th>2</th>\n",
       "      <td>2020-01-22</td>\n",
       "      <td>Beijing</td>\n",
       "      <td>Mainland China</td>\n",
       "      <td>1/22/2020 17:00</td>\n",
       "      <td>14.0</td>\n",
       "      <td>0.0</td>\n",
       "      <td>0.0</td>\n",
       "    </tr>\n",
       "    <tr>\n",
       "      <th>3</th>\n",
       "      <td>2020-01-22</td>\n",
       "      <td>Chongqing</td>\n",
       "      <td>Mainland China</td>\n",
       "      <td>1/22/2020 17:00</td>\n",
       "      <td>6.0</td>\n",
       "      <td>0.0</td>\n",
       "      <td>0.0</td>\n",
       "    </tr>\n",
       "    <tr>\n",
       "      <th>4</th>\n",
       "      <td>2020-01-22</td>\n",
       "      <td>Fujian</td>\n",
       "      <td>Mainland China</td>\n",
       "      <td>1/22/2020 17:00</td>\n",
       "      <td>1.0</td>\n",
       "      <td>0.0</td>\n",
       "      <td>0.0</td>\n",
       "    </tr>\n",
       "    <tr>\n",
       "      <th>5</th>\n",
       "      <td>2020-01-22</td>\n",
       "      <td>Gansu</td>\n",
       "      <td>Mainland China</td>\n",
       "      <td>1/22/2020 17:00</td>\n",
       "      <td>0.0</td>\n",
       "      <td>0.0</td>\n",
       "      <td>0.0</td>\n",
       "    </tr>\n",
       "  </tbody>\n",
       "</table>\n",
       "</div>"
      ],
      "text/plain": [
       "    ObservationDate Province/State  Country/Region      Last Update  \\\n",
       "SNo                                                                   \n",
       "1        2020-01-22          Anhui  Mainland China  1/22/2020 17:00   \n",
       "2        2020-01-22        Beijing  Mainland China  1/22/2020 17:00   \n",
       "3        2020-01-22      Chongqing  Mainland China  1/22/2020 17:00   \n",
       "4        2020-01-22         Fujian  Mainland China  1/22/2020 17:00   \n",
       "5        2020-01-22          Gansu  Mainland China  1/22/2020 17:00   \n",
       "\n",
       "     Confirmed  Deaths  Recovered  \n",
       "SNo                                \n",
       "1          1.0     0.0        0.0  \n",
       "2         14.0     0.0        0.0  \n",
       "3          6.0     0.0        0.0  \n",
       "4          1.0     0.0        0.0  \n",
       "5          0.0     0.0        0.0  "
      ]
     },
     "execution_count": 21,
     "metadata": {},
     "output_type": "execute_result"
    }
   ],
   "source": [
    "df1.head()"
   ]
  },
  {
   "cell_type": "code",
   "execution_count": 22,
   "metadata": {},
   "outputs": [
    {
     "data": {
      "text/plain": [
       "pandas.core.series.Series"
      ]
     },
     "execution_count": 22,
     "metadata": {},
     "output_type": "execute_result"
    }
   ],
   "source": [
    "type(df1.loc[:,'Last Update'])\n",
    "#df1.loc[:,'Last Update'].head()"
   ]
  },
  {
   "cell_type": "code",
   "execution_count": 23,
   "metadata": {},
   "outputs": [
    {
     "data": {
      "text/plain": [
       "SNo\n",
       "1    1/22/2020 17:00:00\n",
       "2    1/22/2020 17:00:00\n",
       "3    1/22/2020 17:00:00\n",
       "4    1/22/2020 17:00:00\n",
       "5    1/22/2020 17:00:00\n",
       "Name: Last Update, dtype: object"
      ]
     },
     "execution_count": 23,
     "metadata": {},
     "output_type": "execute_result"
    }
   ],
   "source": [
    "add_default_seconds = lambda s: s + \":00\"\n",
    "test = df1.loc[:,'Last Update'].apply(add_default_seconds)\n",
    "test.head()\n",
    "## This idea is useless because sometimes the 'seconds' part is defined in the data."
   ]
  },
  {
   "cell_type": "code",
   "execution_count": 24,
   "metadata": {},
   "outputs": [
    {
     "data": {
      "text/plain": [
       "array([15, 13, 14, 19, 11])"
      ]
     },
     "execution_count": 24,
     "metadata": {},
     "output_type": "execute_result"
    }
   ],
   "source": [
    "test = df1['Last Update'].apply(len).unique()\n",
    "test"
   ]
  },
  {
   "cell_type": "raw",
   "metadata": {},
   "source": [
    "## There are different formats of 'Last Update' dttm in data.\n",
    "## Therefore this column is difficult to parse to get exact dttm value.\n",
    "## Skipping the operation to get full info. from this col. as it has low impact on analysis."
   ]
  },
  {
   "cell_type": "code",
   "execution_count": 25,
   "metadata": {},
   "outputs": [
    {
     "data": {
      "text/plain": [
       "SNo\n",
       "1    1/22/2020 \n",
       "2    1/22/2020 \n",
       "3    1/22/2020 \n",
       "4    1/22/2020 \n",
       "5    1/22/2020 \n",
       "Name: Last Update, dtype: object"
      ]
     },
     "execution_count": 25,
     "metadata": {},
     "output_type": "execute_result"
    }
   ],
   "source": [
    "get_date_value = lambda s: s[:10]\n",
    "test = df1['Last Update'].apply(get_date_value)\n",
    "test.head()\n",
    "## This method prove unreliable because the dates format is heterogeneous"
   ]
  },
  {
   "cell_type": "code",
   "execution_count": 26,
   "metadata": {},
   "outputs": [],
   "source": [
    "df1['Last Update Parsed'] = pd.to_datetime(df1.loc[:,'Last Update'])"
   ]
  },
  {
   "cell_type": "code",
   "execution_count": 27,
   "metadata": {},
   "outputs": [
    {
     "data": {
      "text/html": [
       "<div>\n",
       "<style scoped>\n",
       "    .dataframe tbody tr th:only-of-type {\n",
       "        vertical-align: middle;\n",
       "    }\n",
       "\n",
       "    .dataframe tbody tr th {\n",
       "        vertical-align: top;\n",
       "    }\n",
       "\n",
       "    .dataframe thead th {\n",
       "        text-align: right;\n",
       "    }\n",
       "</style>\n",
       "<table border=\"1\" class=\"dataframe\">\n",
       "  <thead>\n",
       "    <tr style=\"text-align: right;\">\n",
       "      <th></th>\n",
       "      <th>ObservationDate</th>\n",
       "      <th>Province/State</th>\n",
       "      <th>Country/Region</th>\n",
       "      <th>Last Update</th>\n",
       "      <th>Confirmed</th>\n",
       "      <th>Deaths</th>\n",
       "      <th>Recovered</th>\n",
       "      <th>Last Update Parsed</th>\n",
       "    </tr>\n",
       "    <tr>\n",
       "      <th>SNo</th>\n",
       "      <th></th>\n",
       "      <th></th>\n",
       "      <th></th>\n",
       "      <th></th>\n",
       "      <th></th>\n",
       "      <th></th>\n",
       "      <th></th>\n",
       "      <th></th>\n",
       "    </tr>\n",
       "  </thead>\n",
       "  <tbody>\n",
       "    <tr>\n",
       "      <th>58102</th>\n",
       "      <td>2020-07-06</td>\n",
       "      <td>Okinawa</td>\n",
       "      <td>Japan</td>\n",
       "      <td>2020-07-07 04:34:00</td>\n",
       "      <td>145.0</td>\n",
       "      <td>7.0</td>\n",
       "      <td>138.0</td>\n",
       "      <td>2020-07-07 04:34:00</td>\n",
       "    </tr>\n",
       "    <tr>\n",
       "      <th>58103</th>\n",
       "      <td>2020-07-06</td>\n",
       "      <td>Oklahoma</td>\n",
       "      <td>US</td>\n",
       "      <td>2020-07-07 04:34:00</td>\n",
       "      <td>16362.0</td>\n",
       "      <td>399.0</td>\n",
       "      <td>0.0</td>\n",
       "      <td>2020-07-07 04:34:00</td>\n",
       "    </tr>\n",
       "    <tr>\n",
       "      <th>58104</th>\n",
       "      <td>2020-07-06</td>\n",
       "      <td>Omsk Oblast</td>\n",
       "      <td>Russia</td>\n",
       "      <td>2020-07-07 04:34:00</td>\n",
       "      <td>4120.0</td>\n",
       "      <td>35.0</td>\n",
       "      <td>2209.0</td>\n",
       "      <td>2020-07-07 04:34:00</td>\n",
       "    </tr>\n",
       "    <tr>\n",
       "      <th>58105</th>\n",
       "      <td>2020-07-06</td>\n",
       "      <td>Ontario</td>\n",
       "      <td>Canada</td>\n",
       "      <td>2020-07-07 04:34:00</td>\n",
       "      <td>37829.0</td>\n",
       "      <td>2743.0</td>\n",
       "      <td>32997.0</td>\n",
       "      <td>2020-07-07 04:34:00</td>\n",
       "    </tr>\n",
       "    <tr>\n",
       "      <th>58106</th>\n",
       "      <td>2020-07-06</td>\n",
       "      <td>Orebro</td>\n",
       "      <td>Sweden</td>\n",
       "      <td>2020-07-07 04:34:00</td>\n",
       "      <td>2421.0</td>\n",
       "      <td>164.0</td>\n",
       "      <td>0.0</td>\n",
       "      <td>2020-07-07 04:34:00</td>\n",
       "    </tr>\n",
       "    <tr>\n",
       "      <th>...</th>\n",
       "      <td>...</td>\n",
       "      <td>...</td>\n",
       "      <td>...</td>\n",
       "      <td>...</td>\n",
       "      <td>...</td>\n",
       "      <td>...</td>\n",
       "      <td>...</td>\n",
       "      <td>...</td>\n",
       "    </tr>\n",
       "    <tr>\n",
       "      <th>58297</th>\n",
       "      <td>2020-07-06</td>\n",
       "      <td>Zacatecas</td>\n",
       "      <td>Mexico</td>\n",
       "      <td>2020-07-07 04:34:00</td>\n",
       "      <td>1140.0</td>\n",
       "      <td>112.0</td>\n",
       "      <td>764.0</td>\n",
       "      <td>2020-07-07 04:34:00</td>\n",
       "    </tr>\n",
       "    <tr>\n",
       "      <th>58298</th>\n",
       "      <td>2020-07-06</td>\n",
       "      <td>Zakarpattia Oblast</td>\n",
       "      <td>Ukraine</td>\n",
       "      <td>2020-07-07 04:34:00</td>\n",
       "      <td>3375.0</td>\n",
       "      <td>111.0</td>\n",
       "      <td>1001.0</td>\n",
       "      <td>2020-07-07 04:34:00</td>\n",
       "    </tr>\n",
       "    <tr>\n",
       "      <th>58299</th>\n",
       "      <td>2020-07-06</td>\n",
       "      <td>Zaporizhia Oblast</td>\n",
       "      <td>Ukraine</td>\n",
       "      <td>2020-07-07 04:34:00</td>\n",
       "      <td>597.0</td>\n",
       "      <td>17.0</td>\n",
       "      <td>444.0</td>\n",
       "      <td>2020-07-07 04:34:00</td>\n",
       "    </tr>\n",
       "    <tr>\n",
       "      <th>58300</th>\n",
       "      <td>2020-07-06</td>\n",
       "      <td>Zhejiang</td>\n",
       "      <td>Mainland China</td>\n",
       "      <td>2020-07-07 04:34:00</td>\n",
       "      <td>1269.0</td>\n",
       "      <td>1.0</td>\n",
       "      <td>1267.0</td>\n",
       "      <td>2020-07-07 04:34:00</td>\n",
       "    </tr>\n",
       "    <tr>\n",
       "      <th>58301</th>\n",
       "      <td>2020-07-06</td>\n",
       "      <td>Zhytomyr Oblast</td>\n",
       "      <td>Ukraine</td>\n",
       "      <td>2020-07-07 04:34:00</td>\n",
       "      <td>1468.0</td>\n",
       "      <td>30.0</td>\n",
       "      <td>950.0</td>\n",
       "      <td>2020-07-07 04:34:00</td>\n",
       "    </tr>\n",
       "  </tbody>\n",
       "</table>\n",
       "<p>200 rows × 8 columns</p>\n",
       "</div>"
      ],
      "text/plain": [
       "      ObservationDate      Province/State  Country/Region  \\\n",
       "SNo                                                         \n",
       "58102      2020-07-06             Okinawa           Japan   \n",
       "58103      2020-07-06            Oklahoma              US   \n",
       "58104      2020-07-06         Omsk Oblast          Russia   \n",
       "58105      2020-07-06             Ontario          Canada   \n",
       "58106      2020-07-06              Orebro          Sweden   \n",
       "...               ...                 ...             ...   \n",
       "58297      2020-07-06           Zacatecas          Mexico   \n",
       "58298      2020-07-06  Zakarpattia Oblast         Ukraine   \n",
       "58299      2020-07-06   Zaporizhia Oblast         Ukraine   \n",
       "58300      2020-07-06            Zhejiang  Mainland China   \n",
       "58301      2020-07-06     Zhytomyr Oblast         Ukraine   \n",
       "\n",
       "               Last Update  Confirmed  Deaths  Recovered  Last Update Parsed  \n",
       "SNo                                                                           \n",
       "58102  2020-07-07 04:34:00      145.0     7.0      138.0 2020-07-07 04:34:00  \n",
       "58103  2020-07-07 04:34:00    16362.0   399.0        0.0 2020-07-07 04:34:00  \n",
       "58104  2020-07-07 04:34:00     4120.0    35.0     2209.0 2020-07-07 04:34:00  \n",
       "58105  2020-07-07 04:34:00    37829.0  2743.0    32997.0 2020-07-07 04:34:00  \n",
       "58106  2020-07-07 04:34:00     2421.0   164.0        0.0 2020-07-07 04:34:00  \n",
       "...                    ...        ...     ...        ...                 ...  \n",
       "58297  2020-07-07 04:34:00     1140.0   112.0      764.0 2020-07-07 04:34:00  \n",
       "58298  2020-07-07 04:34:00     3375.0   111.0     1001.0 2020-07-07 04:34:00  \n",
       "58299  2020-07-07 04:34:00      597.0    17.0      444.0 2020-07-07 04:34:00  \n",
       "58300  2020-07-07 04:34:00     1269.0     1.0     1267.0 2020-07-07 04:34:00  \n",
       "58301  2020-07-07 04:34:00     1468.0    30.0      950.0 2020-07-07 04:34:00  \n",
       "\n",
       "[200 rows x 8 columns]"
      ]
     },
     "execution_count": 27,
     "metadata": {},
     "output_type": "execute_result"
    }
   ],
   "source": [
    "df1.tail(200)"
   ]
  },
  {
   "cell_type": "code",
   "execution_count": 28,
   "metadata": {},
   "outputs": [
    {
     "data": {
      "text/plain": [
       "574276.0"
      ]
     },
     "execution_count": 28,
     "metadata": {},
     "output_type": "execute_result"
    }
   ],
   "source": [
    "df1[df1['Country/Region']==\"Mainland China\"]['Deaths'].sum()"
   ]
  },
  {
   "cell_type": "code",
   "execution_count": 29,
   "metadata": {},
   "outputs": [
    {
     "data": {
      "text/plain": [
       "30629411.0"
      ]
     },
     "execution_count": 29,
     "metadata": {},
     "output_type": "execute_result"
    }
   ],
   "source": [
    "df1['Deaths'].sum()"
   ]
  },
  {
   "cell_type": "code",
   "execution_count": 30,
   "metadata": {},
   "outputs": [
    {
     "data": {
      "text/plain": [
       "Deaths         574276.0\n",
       "Confirmed    12215418.0\n",
       "dtype: float64"
      ]
     },
     "execution_count": 30,
     "metadata": {},
     "output_type": "execute_result"
    }
   ],
   "source": [
    "df1[df1['Country/Region']==\"Mainland China\"][['Deaths','Confirmed']].sum()"
   ]
  },
  {
   "cell_type": "code",
   "execution_count": 31,
   "metadata": {},
   "outputs": [
    {
     "data": {
      "text/plain": [
       "['ObservationDate',\n",
       " 'Province/State',\n",
       " 'Country/Region',\n",
       " 'Last Update',\n",
       " 'Confirmed',\n",
       " 'Deaths',\n",
       " 'Recovered',\n",
       " 'Last Update Parsed']"
      ]
     },
     "execution_count": 31,
     "metadata": {},
     "output_type": "execute_result"
    }
   ],
   "source": [
    "list(df1.columns)"
   ]
  },
  {
   "cell_type": "code",
   "execution_count": 32,
   "metadata": {},
   "outputs": [
    {
     "data": {
      "text/html": [
       "<div>\n",
       "<style scoped>\n",
       "    .dataframe tbody tr th:only-of-type {\n",
       "        vertical-align: middle;\n",
       "    }\n",
       "\n",
       "    .dataframe tbody tr th {\n",
       "        vertical-align: top;\n",
       "    }\n",
       "\n",
       "    .dataframe thead th {\n",
       "        text-align: right;\n",
       "    }\n",
       "</style>\n",
       "<table border=\"1\" class=\"dataframe\">\n",
       "  <thead>\n",
       "    <tr style=\"text-align: right;\">\n",
       "      <th></th>\n",
       "      <th>ObservationDate</th>\n",
       "      <th>Province/State</th>\n",
       "      <th>Country/Region</th>\n",
       "      <th>Last Update</th>\n",
       "      <th>Confirmed</th>\n",
       "      <th>Deaths</th>\n",
       "      <th>Recovered</th>\n",
       "      <th>Last Update Parsed</th>\n",
       "    </tr>\n",
       "    <tr>\n",
       "      <th>SNo</th>\n",
       "      <th></th>\n",
       "      <th></th>\n",
       "      <th></th>\n",
       "      <th></th>\n",
       "      <th></th>\n",
       "      <th></th>\n",
       "      <th></th>\n",
       "      <th></th>\n",
       "    </tr>\n",
       "  </thead>\n",
       "  <tbody>\n",
       "    <tr>\n",
       "      <th>1</th>\n",
       "      <td>False</td>\n",
       "      <td>False</td>\n",
       "      <td>False</td>\n",
       "      <td>False</td>\n",
       "      <td>False</td>\n",
       "      <td>False</td>\n",
       "      <td>False</td>\n",
       "      <td>False</td>\n",
       "    </tr>\n",
       "    <tr>\n",
       "      <th>2</th>\n",
       "      <td>False</td>\n",
       "      <td>False</td>\n",
       "      <td>False</td>\n",
       "      <td>False</td>\n",
       "      <td>False</td>\n",
       "      <td>False</td>\n",
       "      <td>False</td>\n",
       "      <td>False</td>\n",
       "    </tr>\n",
       "    <tr>\n",
       "      <th>3</th>\n",
       "      <td>False</td>\n",
       "      <td>False</td>\n",
       "      <td>False</td>\n",
       "      <td>False</td>\n",
       "      <td>False</td>\n",
       "      <td>False</td>\n",
       "      <td>False</td>\n",
       "      <td>False</td>\n",
       "    </tr>\n",
       "    <tr>\n",
       "      <th>4</th>\n",
       "      <td>False</td>\n",
       "      <td>False</td>\n",
       "      <td>False</td>\n",
       "      <td>False</td>\n",
       "      <td>False</td>\n",
       "      <td>False</td>\n",
       "      <td>False</td>\n",
       "      <td>False</td>\n",
       "    </tr>\n",
       "    <tr>\n",
       "      <th>5</th>\n",
       "      <td>False</td>\n",
       "      <td>False</td>\n",
       "      <td>False</td>\n",
       "      <td>False</td>\n",
       "      <td>False</td>\n",
       "      <td>False</td>\n",
       "      <td>False</td>\n",
       "      <td>False</td>\n",
       "    </tr>\n",
       "  </tbody>\n",
       "</table>\n",
       "</div>"
      ],
      "text/plain": [
       "     ObservationDate  Province/State  Country/Region  Last Update  Confirmed  \\\n",
       "SNo                                                                            \n",
       "1              False           False           False        False      False   \n",
       "2              False           False           False        False      False   \n",
       "3              False           False           False        False      False   \n",
       "4              False           False           False        False      False   \n",
       "5              False           False           False        False      False   \n",
       "\n",
       "     Deaths  Recovered  Last Update Parsed  \n",
       "SNo                                         \n",
       "1     False      False               False  \n",
       "2     False      False               False  \n",
       "3     False      False               False  \n",
       "4     False      False               False  \n",
       "5     False      False               False  "
      ]
     },
     "execution_count": 32,
     "metadata": {},
     "output_type": "execute_result"
    }
   ],
   "source": [
    "test = pd.isna(df1)\n",
    "test.head()"
   ]
  },
  {
   "cell_type": "code",
   "execution_count": 33,
   "metadata": {},
   "outputs": [],
   "source": [
    "df = df1.copy()"
   ]
  },
  {
   "cell_type": "code",
   "execution_count": 34,
   "metadata": {},
   "outputs": [
    {
     "data": {
      "text/html": [
       "<div>\n",
       "<style scoped>\n",
       "    .dataframe tbody tr th:only-of-type {\n",
       "        vertical-align: middle;\n",
       "    }\n",
       "\n",
       "    .dataframe tbody tr th {\n",
       "        vertical-align: top;\n",
       "    }\n",
       "\n",
       "    .dataframe thead th {\n",
       "        text-align: right;\n",
       "    }\n",
       "</style>\n",
       "<table border=\"1\" class=\"dataframe\">\n",
       "  <thead>\n",
       "    <tr style=\"text-align: right;\">\n",
       "      <th></th>\n",
       "      <th>ObservationDate</th>\n",
       "      <th>Province/State</th>\n",
       "      <th>Country/Region</th>\n",
       "      <th>Last Update</th>\n",
       "      <th>Confirmed</th>\n",
       "      <th>Deaths</th>\n",
       "      <th>Recovered</th>\n",
       "      <th>Last Update Parsed</th>\n",
       "    </tr>\n",
       "    <tr>\n",
       "      <th>SNo</th>\n",
       "      <th></th>\n",
       "      <th></th>\n",
       "      <th></th>\n",
       "      <th></th>\n",
       "      <th></th>\n",
       "      <th></th>\n",
       "      <th></th>\n",
       "      <th></th>\n",
       "    </tr>\n",
       "  </thead>\n",
       "  <tbody>\n",
       "    <tr>\n",
       "      <th>1</th>\n",
       "      <td>2020-01-22</td>\n",
       "      <td>Anhui</td>\n",
       "      <td>Mainland China</td>\n",
       "      <td>1/22/2020 17:00</td>\n",
       "      <td>1.0</td>\n",
       "      <td>0.0</td>\n",
       "      <td>0.0</td>\n",
       "      <td>2020-01-22 17:00:00</td>\n",
       "    </tr>\n",
       "    <tr>\n",
       "      <th>2</th>\n",
       "      <td>2020-01-22</td>\n",
       "      <td>Beijing</td>\n",
       "      <td>Mainland China</td>\n",
       "      <td>1/22/2020 17:00</td>\n",
       "      <td>14.0</td>\n",
       "      <td>0.0</td>\n",
       "      <td>0.0</td>\n",
       "      <td>2020-01-22 17:00:00</td>\n",
       "    </tr>\n",
       "    <tr>\n",
       "      <th>3</th>\n",
       "      <td>2020-01-22</td>\n",
       "      <td>Chongqing</td>\n",
       "      <td>Mainland China</td>\n",
       "      <td>1/22/2020 17:00</td>\n",
       "      <td>6.0</td>\n",
       "      <td>0.0</td>\n",
       "      <td>0.0</td>\n",
       "      <td>2020-01-22 17:00:00</td>\n",
       "    </tr>\n",
       "    <tr>\n",
       "      <th>4</th>\n",
       "      <td>2020-01-22</td>\n",
       "      <td>Fujian</td>\n",
       "      <td>Mainland China</td>\n",
       "      <td>1/22/2020 17:00</td>\n",
       "      <td>1.0</td>\n",
       "      <td>0.0</td>\n",
       "      <td>0.0</td>\n",
       "      <td>2020-01-22 17:00:00</td>\n",
       "    </tr>\n",
       "    <tr>\n",
       "      <th>5</th>\n",
       "      <td>2020-01-22</td>\n",
       "      <td>Gansu</td>\n",
       "      <td>Mainland China</td>\n",
       "      <td>1/22/2020 17:00</td>\n",
       "      <td>0.0</td>\n",
       "      <td>0.0</td>\n",
       "      <td>0.0</td>\n",
       "      <td>2020-01-22 17:00:00</td>\n",
       "    </tr>\n",
       "    <tr>\n",
       "      <th>...</th>\n",
       "      <td>...</td>\n",
       "      <td>...</td>\n",
       "      <td>...</td>\n",
       "      <td>...</td>\n",
       "      <td>...</td>\n",
       "      <td>...</td>\n",
       "      <td>...</td>\n",
       "      <td>...</td>\n",
       "    </tr>\n",
       "    <tr>\n",
       "      <th>58297</th>\n",
       "      <td>2020-07-06</td>\n",
       "      <td>Zacatecas</td>\n",
       "      <td>Mexico</td>\n",
       "      <td>2020-07-07 04:34:00</td>\n",
       "      <td>1140.0</td>\n",
       "      <td>112.0</td>\n",
       "      <td>764.0</td>\n",
       "      <td>2020-07-07 04:34:00</td>\n",
       "    </tr>\n",
       "    <tr>\n",
       "      <th>58298</th>\n",
       "      <td>2020-07-06</td>\n",
       "      <td>Zakarpattia Oblast</td>\n",
       "      <td>Ukraine</td>\n",
       "      <td>2020-07-07 04:34:00</td>\n",
       "      <td>3375.0</td>\n",
       "      <td>111.0</td>\n",
       "      <td>1001.0</td>\n",
       "      <td>2020-07-07 04:34:00</td>\n",
       "    </tr>\n",
       "    <tr>\n",
       "      <th>58299</th>\n",
       "      <td>2020-07-06</td>\n",
       "      <td>Zaporizhia Oblast</td>\n",
       "      <td>Ukraine</td>\n",
       "      <td>2020-07-07 04:34:00</td>\n",
       "      <td>597.0</td>\n",
       "      <td>17.0</td>\n",
       "      <td>444.0</td>\n",
       "      <td>2020-07-07 04:34:00</td>\n",
       "    </tr>\n",
       "    <tr>\n",
       "      <th>58300</th>\n",
       "      <td>2020-07-06</td>\n",
       "      <td>Zhejiang</td>\n",
       "      <td>Mainland China</td>\n",
       "      <td>2020-07-07 04:34:00</td>\n",
       "      <td>1269.0</td>\n",
       "      <td>1.0</td>\n",
       "      <td>1267.0</td>\n",
       "      <td>2020-07-07 04:34:00</td>\n",
       "    </tr>\n",
       "    <tr>\n",
       "      <th>58301</th>\n",
       "      <td>2020-07-06</td>\n",
       "      <td>Zhytomyr Oblast</td>\n",
       "      <td>Ukraine</td>\n",
       "      <td>2020-07-07 04:34:00</td>\n",
       "      <td>1468.0</td>\n",
       "      <td>30.0</td>\n",
       "      <td>950.0</td>\n",
       "      <td>2020-07-07 04:34:00</td>\n",
       "    </tr>\n",
       "  </tbody>\n",
       "</table>\n",
       "<p>36230 rows × 8 columns</p>\n",
       "</div>"
      ],
      "text/plain": [
       "      ObservationDate      Province/State  Country/Region  \\\n",
       "SNo                                                         \n",
       "1          2020-01-22               Anhui  Mainland China   \n",
       "2          2020-01-22             Beijing  Mainland China   \n",
       "3          2020-01-22           Chongqing  Mainland China   \n",
       "4          2020-01-22              Fujian  Mainland China   \n",
       "5          2020-01-22               Gansu  Mainland China   \n",
       "...               ...                 ...             ...   \n",
       "58297      2020-07-06           Zacatecas          Mexico   \n",
       "58298      2020-07-06  Zakarpattia Oblast         Ukraine   \n",
       "58299      2020-07-06   Zaporizhia Oblast         Ukraine   \n",
       "58300      2020-07-06            Zhejiang  Mainland China   \n",
       "58301      2020-07-06     Zhytomyr Oblast         Ukraine   \n",
       "\n",
       "               Last Update  Confirmed  Deaths  Recovered  Last Update Parsed  \n",
       "SNo                                                                           \n",
       "1          1/22/2020 17:00        1.0     0.0        0.0 2020-01-22 17:00:00  \n",
       "2          1/22/2020 17:00       14.0     0.0        0.0 2020-01-22 17:00:00  \n",
       "3          1/22/2020 17:00        6.0     0.0        0.0 2020-01-22 17:00:00  \n",
       "4          1/22/2020 17:00        1.0     0.0        0.0 2020-01-22 17:00:00  \n",
       "5          1/22/2020 17:00        0.0     0.0        0.0 2020-01-22 17:00:00  \n",
       "...                    ...        ...     ...        ...                 ...  \n",
       "58297  2020-07-07 04:34:00     1140.0   112.0      764.0 2020-07-07 04:34:00  \n",
       "58298  2020-07-07 04:34:00     3375.0   111.0     1001.0 2020-07-07 04:34:00  \n",
       "58299  2020-07-07 04:34:00      597.0    17.0      444.0 2020-07-07 04:34:00  \n",
       "58300  2020-07-07 04:34:00     1269.0     1.0     1267.0 2020-07-07 04:34:00  \n",
       "58301  2020-07-07 04:34:00     1468.0    30.0      950.0 2020-07-07 04:34:00  \n",
       "\n",
       "[36230 rows x 8 columns]"
      ]
     },
     "execution_count": 34,
     "metadata": {},
     "output_type": "execute_result"
    }
   ],
   "source": [
    "df1.dropna(how='any')"
   ]
  },
  {
   "cell_type": "code",
   "execution_count": 35,
   "metadata": {},
   "outputs": [
    {
     "data": {
      "text/html": [
       "<div>\n",
       "<style scoped>\n",
       "    .dataframe tbody tr th:only-of-type {\n",
       "        vertical-align: middle;\n",
       "    }\n",
       "\n",
       "    .dataframe tbody tr th {\n",
       "        vertical-align: top;\n",
       "    }\n",
       "\n",
       "    .dataframe thead th {\n",
       "        text-align: right;\n",
       "    }\n",
       "</style>\n",
       "<table border=\"1\" class=\"dataframe\">\n",
       "  <thead>\n",
       "    <tr style=\"text-align: right;\">\n",
       "      <th></th>\n",
       "      <th>Confirmed</th>\n",
       "      <th>Deaths</th>\n",
       "      <th>Recovered</th>\n",
       "    </tr>\n",
       "    <tr>\n",
       "      <th>SNo</th>\n",
       "      <th></th>\n",
       "      <th></th>\n",
       "      <th></th>\n",
       "    </tr>\n",
       "  </thead>\n",
       "  <tbody>\n",
       "    <tr>\n",
       "      <th>1</th>\n",
       "      <td>1.0</td>\n",
       "      <td>0.0</td>\n",
       "      <td>0.0</td>\n",
       "    </tr>\n",
       "    <tr>\n",
       "      <th>2</th>\n",
       "      <td>15.0</td>\n",
       "      <td>0.0</td>\n",
       "      <td>0.0</td>\n",
       "    </tr>\n",
       "    <tr>\n",
       "      <th>3</th>\n",
       "      <td>21.0</td>\n",
       "      <td>0.0</td>\n",
       "      <td>0.0</td>\n",
       "    </tr>\n",
       "    <tr>\n",
       "      <th>4</th>\n",
       "      <td>22.0</td>\n",
       "      <td>0.0</td>\n",
       "      <td>0.0</td>\n",
       "    </tr>\n",
       "    <tr>\n",
       "      <th>5</th>\n",
       "      <td>22.0</td>\n",
       "      <td>0.0</td>\n",
       "      <td>0.0</td>\n",
       "    </tr>\n",
       "    <tr>\n",
       "      <th>...</th>\n",
       "      <td>...</td>\n",
       "      <td>...</td>\n",
       "      <td>...</td>\n",
       "    </tr>\n",
       "    <tr>\n",
       "      <th>58297</th>\n",
       "      <td>532312316.0</td>\n",
       "      <td>30629252.0</td>\n",
       "      <td>228119360.0</td>\n",
       "    </tr>\n",
       "    <tr>\n",
       "      <th>58298</th>\n",
       "      <td>532315691.0</td>\n",
       "      <td>30629363.0</td>\n",
       "      <td>228120361.0</td>\n",
       "    </tr>\n",
       "    <tr>\n",
       "      <th>58299</th>\n",
       "      <td>532316288.0</td>\n",
       "      <td>30629380.0</td>\n",
       "      <td>228120805.0</td>\n",
       "    </tr>\n",
       "    <tr>\n",
       "      <th>58300</th>\n",
       "      <td>532317557.0</td>\n",
       "      <td>30629381.0</td>\n",
       "      <td>228122072.0</td>\n",
       "    </tr>\n",
       "    <tr>\n",
       "      <th>58301</th>\n",
       "      <td>532319025.0</td>\n",
       "      <td>30629411.0</td>\n",
       "      <td>228123022.0</td>\n",
       "    </tr>\n",
       "  </tbody>\n",
       "</table>\n",
       "<p>58301 rows × 3 columns</p>\n",
       "</div>"
      ],
      "text/plain": [
       "         Confirmed      Deaths    Recovered\n",
       "SNo                                        \n",
       "1              1.0         0.0          0.0\n",
       "2             15.0         0.0          0.0\n",
       "3             21.0         0.0          0.0\n",
       "4             22.0         0.0          0.0\n",
       "5             22.0         0.0          0.0\n",
       "...            ...         ...          ...\n",
       "58297  532312316.0  30629252.0  228119360.0\n",
       "58298  532315691.0  30629363.0  228120361.0\n",
       "58299  532316288.0  30629380.0  228120805.0\n",
       "58300  532317557.0  30629381.0  228122072.0\n",
       "58301  532319025.0  30629411.0  228123022.0\n",
       "\n",
       "[58301 rows x 3 columns]"
      ]
     },
     "execution_count": 35,
     "metadata": {},
     "output_type": "execute_result"
    }
   ],
   "source": [
    "df1[['Confirmed','Deaths','Recovered']].apply(np.cumsum)"
   ]
  },
  {
   "cell_type": "code",
   "execution_count": 36,
   "metadata": {},
   "outputs": [
    {
     "data": {
      "text/plain": [
       "US                     7774\n",
       "Mainland China         5175\n",
       "Russia                 3110\n",
       "Japan                  2047\n",
       "Canada                 1764\n",
       "                       ... \n",
       "Cape Verde                1\n",
       "East Timor                1\n",
       "Republic of Ireland       1\n",
       "('St. Martin',)           1\n",
       "St. Martin                1\n",
       "Name: Country/Region, Length: 223, dtype: int64"
      ]
     },
     "execution_count": 36,
     "metadata": {},
     "output_type": "execute_result"
    }
   ],
   "source": [
    "df1['Country/Region'].value_counts()"
   ]
  },
  {
   "cell_type": "code",
   "execution_count": 37,
   "metadata": {},
   "outputs": [
    {
     "data": {
      "text/html": [
       "<div>\n",
       "<style scoped>\n",
       "    .dataframe tbody tr th:only-of-type {\n",
       "        vertical-align: middle;\n",
       "    }\n",
       "\n",
       "    .dataframe tbody tr th {\n",
       "        vertical-align: top;\n",
       "    }\n",
       "\n",
       "    .dataframe thead th {\n",
       "        text-align: right;\n",
       "    }\n",
       "</style>\n",
       "<table border=\"1\" class=\"dataframe\">\n",
       "  <thead>\n",
       "    <tr style=\"text-align: right;\">\n",
       "      <th></th>\n",
       "      <th>Confirmed</th>\n",
       "      <th>Deaths</th>\n",
       "    </tr>\n",
       "    <tr>\n",
       "      <th>Country/Region</th>\n",
       "      <th></th>\n",
       "      <th></th>\n",
       "    </tr>\n",
       "  </thead>\n",
       "  <tbody>\n",
       "    <tr>\n",
       "      <th>Azerbaijan</th>\n",
       "      <td>1.0</td>\n",
       "      <td>0.0</td>\n",
       "    </tr>\n",
       "    <tr>\n",
       "      <th>('St. Martin',)</th>\n",
       "      <td>2.0</td>\n",
       "      <td>0.0</td>\n",
       "    </tr>\n",
       "    <tr>\n",
       "      <th>Afghanistan</th>\n",
       "      <td>1199996.0</td>\n",
       "      <td>25778.0</td>\n",
       "    </tr>\n",
       "    <tr>\n",
       "      <th>Albania</th>\n",
       "      <td>114287.0</td>\n",
       "      <td>3450.0</td>\n",
       "    </tr>\n",
       "    <tr>\n",
       "      <th>Algeria</th>\n",
       "      <td>715382.0</td>\n",
       "      <td>55664.0</td>\n",
       "    </tr>\n",
       "    <tr>\n",
       "      <th>...</th>\n",
       "      <td>...</td>\n",
       "      <td>...</td>\n",
       "    </tr>\n",
       "    <tr>\n",
       "      <th>Western Sahara</th>\n",
       "      <td>691.0</td>\n",
       "      <td>42.0</td>\n",
       "    </tr>\n",
       "    <tr>\n",
       "      <th>Yemen</th>\n",
       "      <td>34858.0</td>\n",
       "      <td>8722.0</td>\n",
       "    </tr>\n",
       "    <tr>\n",
       "      <th>Zambia</th>\n",
       "      <td>70400.0</td>\n",
       "      <td>802.0</td>\n",
       "    </tr>\n",
       "    <tr>\n",
       "      <th>Zimbabwe</th>\n",
       "      <td>18633.0</td>\n",
       "      <td>407.0</td>\n",
       "    </tr>\n",
       "    <tr>\n",
       "      <th>occupied Palestinian territory</th>\n",
       "      <td>25.0</td>\n",
       "      <td>0.0</td>\n",
       "    </tr>\n",
       "  </tbody>\n",
       "</table>\n",
       "<p>223 rows × 2 columns</p>\n",
       "</div>"
      ],
      "text/plain": [
       "                                Confirmed   Deaths\n",
       "Country/Region                                    \n",
       " Azerbaijan                           1.0      0.0\n",
       "('St. Martin',)                       2.0      0.0\n",
       "Afghanistan                     1199996.0  25778.0\n",
       "Albania                          114287.0   3450.0\n",
       "Algeria                          715382.0  55664.0\n",
       "...                                   ...      ...\n",
       "Western Sahara                      691.0     42.0\n",
       "Yemen                             34858.0   8722.0\n",
       "Zambia                            70400.0    802.0\n",
       "Zimbabwe                          18633.0    407.0\n",
       "occupied Palestinian territory       25.0      0.0\n",
       "\n",
       "[223 rows x 2 columns]"
      ]
     },
     "execution_count": 37,
     "metadata": {},
     "output_type": "execute_result"
    }
   ],
   "source": [
    "df1[['Country/Region','Confirmed','Deaths']].groupby('Country/Region').sum()"
   ]
  },
  {
   "cell_type": "code",
   "execution_count": 38,
   "metadata": {},
   "outputs": [
    {
     "data": {
      "text/html": [
       "<div>\n",
       "<style scoped>\n",
       "    .dataframe tbody tr th:only-of-type {\n",
       "        vertical-align: middle;\n",
       "    }\n",
       "\n",
       "    .dataframe tbody tr th {\n",
       "        vertical-align: top;\n",
       "    }\n",
       "\n",
       "    .dataframe thead th {\n",
       "        text-align: right;\n",
       "    }\n",
       "</style>\n",
       "<table border=\"1\" class=\"dataframe\">\n",
       "  <thead>\n",
       "    <tr style=\"text-align: right;\">\n",
       "      <th></th>\n",
       "      <th>Confirmed</th>\n",
       "      <th>Deaths</th>\n",
       "    </tr>\n",
       "    <tr>\n",
       "      <th>Country/Region</th>\n",
       "      <th></th>\n",
       "      <th></th>\n",
       "    </tr>\n",
       "  </thead>\n",
       "  <tbody>\n",
       "    <tr>\n",
       "      <th>Yemen</th>\n",
       "      <td>34858.0</td>\n",
       "      <td>8722.0</td>\n",
       "    </tr>\n",
       "  </tbody>\n",
       "</table>\n",
       "</div>"
      ],
      "text/plain": [
       "                Confirmed  Deaths\n",
       "Country/Region                   \n",
       "Yemen             34858.0  8722.0"
      ]
     },
     "execution_count": 38,
     "metadata": {},
     "output_type": "execute_result"
    }
   ],
   "source": [
    "test = df1[['Country/Region','Confirmed','Deaths']].groupby('Country/Region').sum()\n",
    "test['Yemen':'Yemen'] \n",
    "## Is there any better way to do this to get data for only selected countries?"
   ]
  },
  {
   "cell_type": "code",
   "execution_count": 39,
   "metadata": {},
   "outputs": [
    {
     "data": {
      "text/plain": [
       "Confirmed    34858.0\n",
       "Deaths        8722.0\n",
       "Name: Yemen, dtype: float64"
      ]
     },
     "execution_count": 39,
     "metadata": {},
     "output_type": "execute_result"
    }
   ],
   "source": [
    "test.loc['Yemen']"
   ]
  },
  {
   "cell_type": "code",
   "execution_count": 40,
   "metadata": {},
   "outputs": [
    {
     "data": {
      "text/plain": [
       "ObservationDate       2020-05-31 00:00:00\n",
       "Province/State                        NaN\n",
       "Country/Region                     Russia\n",
       "Last Update           2020-06-01 02:32:46\n",
       "Confirmed                          405843\n",
       "Deaths                               4693\n",
       "Recovered                          171883\n",
       "Last Update Parsed    2020-06-01 02:32:46\n",
       "Name: 32121, dtype: object"
      ]
     },
     "execution_count": 40,
     "metadata": {},
     "output_type": "execute_result"
    }
   ],
   "source": [
    "df1.iloc[df1['Confirmed'].argmax(),:]"
   ]
  },
  {
   "cell_type": "code",
   "execution_count": 41,
   "metadata": {},
   "outputs": [
    {
     "data": {
      "text/plain": [
       "Index(['ObservationDate', 'Province/State', 'Country/Region', 'Confirmed',\n",
       "       'Deaths', 'Recovered', 'Last Update Parsed'],\n",
       "      dtype='object')"
      ]
     },
     "execution_count": 41,
     "metadata": {},
     "output_type": "execute_result"
    }
   ],
   "source": [
    "df1.drop('Last Update',axis=1,inplace=True)\n",
    "df1.columns"
   ]
  },
  {
   "cell_type": "code",
   "execution_count": 42,
   "metadata": {},
   "outputs": [
    {
     "data": {
      "text/html": [
       "<div>\n",
       "<style scoped>\n",
       "    .dataframe tbody tr th:only-of-type {\n",
       "        vertical-align: middle;\n",
       "    }\n",
       "\n",
       "    .dataframe tbody tr th {\n",
       "        vertical-align: top;\n",
       "    }\n",
       "\n",
       "    .dataframe thead th {\n",
       "        text-align: right;\n",
       "    }\n",
       "</style>\n",
       "<table border=\"1\" class=\"dataframe\">\n",
       "  <thead>\n",
       "    <tr style=\"text-align: right;\">\n",
       "      <th></th>\n",
       "      <th>ObservationDate</th>\n",
       "      <th>Province/State</th>\n",
       "      <th>Country/Region</th>\n",
       "      <th>Confirmed</th>\n",
       "      <th>Deaths</th>\n",
       "      <th>Recovered</th>\n",
       "      <th>Last Update Parsed</th>\n",
       "    </tr>\n",
       "    <tr>\n",
       "      <th>SNo</th>\n",
       "      <th></th>\n",
       "      <th></th>\n",
       "      <th></th>\n",
       "      <th></th>\n",
       "      <th></th>\n",
       "      <th></th>\n",
       "      <th></th>\n",
       "    </tr>\n",
       "  </thead>\n",
       "  <tbody>\n",
       "    <tr>\n",
       "      <th>1196</th>\n",
       "      <td>2020-02-11</td>\n",
       "      <td>Hubei</td>\n",
       "      <td>Mainland China</td>\n",
       "      <td>33366.0</td>\n",
       "      <td>1068.0</td>\n",
       "      <td>2639.0</td>\n",
       "      <td>2020-02-11 23:33:02</td>\n",
       "    </tr>\n",
       "    <tr>\n",
       "      <th>1269</th>\n",
       "      <td>2020-02-12</td>\n",
       "      <td>Hubei</td>\n",
       "      <td>Mainland China</td>\n",
       "      <td>33366.0</td>\n",
       "      <td>1068.0</td>\n",
       "      <td>2686.0</td>\n",
       "      <td>2020-02-12 14:13:08</td>\n",
       "    </tr>\n",
       "    <tr>\n",
       "      <th>1342</th>\n",
       "      <td>2020-02-13</td>\n",
       "      <td>Hubei</td>\n",
       "      <td>Mainland China</td>\n",
       "      <td>48206.0</td>\n",
       "      <td>1310.0</td>\n",
       "      <td>3459.0</td>\n",
       "      <td>2020-02-13 14:13:06</td>\n",
       "    </tr>\n",
       "    <tr>\n",
       "      <th>1416</th>\n",
       "      <td>2020-02-14</td>\n",
       "      <td>Hubei</td>\n",
       "      <td>Mainland China</td>\n",
       "      <td>54406.0</td>\n",
       "      <td>1457.0</td>\n",
       "      <td>4774.0</td>\n",
       "      <td>2020-02-14 23:33:02</td>\n",
       "    </tr>\n",
       "    <tr>\n",
       "      <th>1491</th>\n",
       "      <td>2020-02-15</td>\n",
       "      <td>Hubei</td>\n",
       "      <td>Mainland China</td>\n",
       "      <td>56249.0</td>\n",
       "      <td>1596.0</td>\n",
       "      <td>5623.0</td>\n",
       "      <td>2020-02-15 23:13:05</td>\n",
       "    </tr>\n",
       "    <tr>\n",
       "      <th>...</th>\n",
       "      <td>...</td>\n",
       "      <td>...</td>\n",
       "      <td>...</td>\n",
       "      <td>...</td>\n",
       "      <td>...</td>\n",
       "      <td>...</td>\n",
       "      <td>...</td>\n",
       "    </tr>\n",
       "    <tr>\n",
       "      <th>55011</th>\n",
       "      <td>2020-07-02</td>\n",
       "      <td>Hubei</td>\n",
       "      <td>Mainland China</td>\n",
       "      <td>68135.0</td>\n",
       "      <td>4512.0</td>\n",
       "      <td>63623.0</td>\n",
       "      <td>2020-07-03 04:33:54</td>\n",
       "    </tr>\n",
       "    <tr>\n",
       "      <th>55740</th>\n",
       "      <td>2020-07-03</td>\n",
       "      <td>Hubei</td>\n",
       "      <td>Mainland China</td>\n",
       "      <td>68135.0</td>\n",
       "      <td>4512.0</td>\n",
       "      <td>63623.0</td>\n",
       "      <td>2020-07-04 04:33:51</td>\n",
       "    </tr>\n",
       "    <tr>\n",
       "      <th>56469</th>\n",
       "      <td>2020-07-04</td>\n",
       "      <td>Hubei</td>\n",
       "      <td>Mainland China</td>\n",
       "      <td>68135.0</td>\n",
       "      <td>4512.0</td>\n",
       "      <td>63623.0</td>\n",
       "      <td>2020-07-05 04:33:46</td>\n",
       "    </tr>\n",
       "    <tr>\n",
       "      <th>57198</th>\n",
       "      <td>2020-07-05</td>\n",
       "      <td>Hubei</td>\n",
       "      <td>Mainland China</td>\n",
       "      <td>68135.0</td>\n",
       "      <td>4512.0</td>\n",
       "      <td>63623.0</td>\n",
       "      <td>2020-07-06 04:33:57</td>\n",
       "    </tr>\n",
       "    <tr>\n",
       "      <th>57927</th>\n",
       "      <td>2020-07-06</td>\n",
       "      <td>Hubei</td>\n",
       "      <td>Mainland China</td>\n",
       "      <td>68135.0</td>\n",
       "      <td>4512.0</td>\n",
       "      <td>63623.0</td>\n",
       "      <td>2020-07-07 04:34:00</td>\n",
       "    </tr>\n",
       "  </tbody>\n",
       "</table>\n",
       "<p>147 rows × 7 columns</p>\n",
       "</div>"
      ],
      "text/plain": [
       "      ObservationDate Province/State  Country/Region  Confirmed  Deaths  \\\n",
       "SNo                                                                       \n",
       "1196       2020-02-11          Hubei  Mainland China    33366.0  1068.0   \n",
       "1269       2020-02-12          Hubei  Mainland China    33366.0  1068.0   \n",
       "1342       2020-02-13          Hubei  Mainland China    48206.0  1310.0   \n",
       "1416       2020-02-14          Hubei  Mainland China    54406.0  1457.0   \n",
       "1491       2020-02-15          Hubei  Mainland China    56249.0  1596.0   \n",
       "...               ...            ...             ...        ...     ...   \n",
       "55011      2020-07-02          Hubei  Mainland China    68135.0  4512.0   \n",
       "55740      2020-07-03          Hubei  Mainland China    68135.0  4512.0   \n",
       "56469      2020-07-04          Hubei  Mainland China    68135.0  4512.0   \n",
       "57198      2020-07-05          Hubei  Mainland China    68135.0  4512.0   \n",
       "57927      2020-07-06          Hubei  Mainland China    68135.0  4512.0   \n",
       "\n",
       "       Recovered  Last Update Parsed  \n",
       "SNo                                   \n",
       "1196      2639.0 2020-02-11 23:33:02  \n",
       "1269      2686.0 2020-02-12 14:13:08  \n",
       "1342      3459.0 2020-02-13 14:13:06  \n",
       "1416      4774.0 2020-02-14 23:33:02  \n",
       "1491      5623.0 2020-02-15 23:13:05  \n",
       "...          ...                 ...  \n",
       "55011    63623.0 2020-07-03 04:33:54  \n",
       "55740    63623.0 2020-07-04 04:33:51  \n",
       "56469    63623.0 2020-07-05 04:33:46  \n",
       "57198    63623.0 2020-07-06 04:33:57  \n",
       "57927    63623.0 2020-07-07 04:34:00  \n",
       "\n",
       "[147 rows x 7 columns]"
      ]
     },
     "execution_count": 42,
     "metadata": {},
     "output_type": "execute_result"
    }
   ],
   "source": [
    "df1[(df1['Deaths']>1000) & (df1['Country/Region']=='Mainland China')]\n",
    "#So Deaths and other metrics are already cummulative figures and not daily values"
   ]
  },
  {
   "cell_type": "code",
   "execution_count": 43,
   "metadata": {},
   "outputs": [
    {
     "data": {
      "text/plain": [
       "array([nan, 'Blekinge', 'Dalarna', 'Gavleborg', 'Gotland', 'Halland',\n",
       "       'Jamtland Harjedalen', 'Jonkoping', 'Kalmar', 'Kronoberg',\n",
       "       'Norrbotten', 'Orebro', 'Ostergotland', 'Skane', 'Sormland',\n",
       "       'Stockholm', 'Uppsala', 'Varmland', 'Vasterbotten',\n",
       "       'Vasternorrland', 'Vastmanland', 'Vastra Gotaland'], dtype=object)"
      ]
     },
     "execution_count": 43,
     "metadata": {},
     "output_type": "execute_result"
    }
   ],
   "source": [
    "df1[df1['Country/Region']=='Sweden']['Province/State'].unique()\n",
    "#List of distinct provinces in country"
   ]
  },
  {
   "cell_type": "code",
   "execution_count": 44,
   "metadata": {},
   "outputs": [
    {
     "data": {
      "text/plain": [
       "False"
      ]
     },
     "execution_count": 44,
     "metadata": {},
     "output_type": "execute_result"
    }
   ],
   "source": [
    "test = np.array(['abc','def','asd'])\n",
    "'United' in test\n",
    "## Why does this not work? Idea is to iterate over each element of array and find substring in each element."
   ]
  },
  {
   "cell_type": "code",
   "execution_count": 47,
   "metadata": {},
   "outputs": [
    {
     "data": {
      "text/plain": [
       "<bound method NDFrame.describe of       ObservationDate      Province/State  Country/Region  Confirmed  Deaths  \\\n",
       "SNo                                                                            \n",
       "1          2020-01-22               Anhui  Mainland China        1.0     0.0   \n",
       "2          2020-01-22             Beijing  Mainland China       14.0     0.0   \n",
       "3          2020-01-22           Chongqing  Mainland China        6.0     0.0   \n",
       "4          2020-01-22              Fujian  Mainland China        1.0     0.0   \n",
       "5          2020-01-22               Gansu  Mainland China        0.0     0.0   \n",
       "...               ...                 ...             ...        ...     ...   \n",
       "58297      2020-07-06           Zacatecas          Mexico     1140.0   112.0   \n",
       "58298      2020-07-06  Zakarpattia Oblast         Ukraine     3375.0   111.0   \n",
       "58299      2020-07-06   Zaporizhia Oblast         Ukraine      597.0    17.0   \n",
       "58300      2020-07-06            Zhejiang  Mainland China     1269.0     1.0   \n",
       "58301      2020-07-06     Zhytomyr Oblast         Ukraine     1468.0    30.0   \n",
       "\n",
       "       Recovered  Last Update Parsed  \n",
       "SNo                                   \n",
       "1            0.0 2020-01-22 17:00:00  \n",
       "2            0.0 2020-01-22 17:00:00  \n",
       "3            0.0 2020-01-22 17:00:00  \n",
       "4            0.0 2020-01-22 17:00:00  \n",
       "5            0.0 2020-01-22 17:00:00  \n",
       "...          ...                 ...  \n",
       "58297      764.0 2020-07-07 04:34:00  \n",
       "58298     1001.0 2020-07-07 04:34:00  \n",
       "58299      444.0 2020-07-07 04:34:00  \n",
       "58300     1267.0 2020-07-07 04:34:00  \n",
       "58301      950.0 2020-07-07 04:34:00  \n",
       "\n",
       "[58301 rows x 7 columns]>"
      ]
     },
     "execution_count": 47,
     "metadata": {},
     "output_type": "execute_result"
    }
   ],
   "source": []
  },
  {
   "cell_type": "code",
   "execution_count": null,
   "metadata": {},
   "outputs": [],
   "source": []
  },
  {
   "cell_type": "code",
   "execution_count": null,
   "metadata": {},
   "outputs": [],
   "source": []
  }
 ],
 "metadata": {
  "kernelspec": {
   "display_name": "Python 3",
   "language": "python",
   "name": "python3"
  },
  "language_info": {
   "codemirror_mode": {
    "name": "ipython",
    "version": 3
   },
   "file_extension": ".py",
   "mimetype": "text/x-python",
   "name": "python",
   "nbconvert_exporter": "python",
   "pygments_lexer": "ipython3",
   "version": "3.7.7"
  }
 },
 "nbformat": 4,
 "nbformat_minor": 4
}

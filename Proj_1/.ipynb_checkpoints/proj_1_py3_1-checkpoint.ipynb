{
 "cells": [
  {
   "cell_type": "markdown",
   "metadata": {},
   "source": [
    "Eploration of data using np, pd, sns, plt."
   ]
  },
  {
   "cell_type": "code",
   "execution_count": null,
   "metadata": {},
   "outputs": [],
   "source": []
  },
  {
   "cell_type": "code",
   "execution_count": 118,
   "metadata": {},
   "outputs": [],
   "source": [
    "import numpy as np\n",
    "import pandas as pd\n",
    "import matplotlib.pyplot as plt\n",
    "import seaborn as sns\n",
    "%matplotlib inline"
   ]
  },
  {
   "cell_type": "code",
   "execution_count": 119,
   "metadata": {},
   "outputs": [],
   "source": [
    "df1 = pd.read_csv(\"~/Code/Repos/Python/Datasets/2020_07/covid_19_data.csv\", index_col=0)"
   ]
  },
  {
   "cell_type": "code",
   "execution_count": 120,
   "metadata": {},
   "outputs": [
    {
     "data": {
      "text/html": [
       "<div>\n",
       "<style scoped>\n",
       "    .dataframe tbody tr th:only-of-type {\n",
       "        vertical-align: middle;\n",
       "    }\n",
       "\n",
       "    .dataframe tbody tr th {\n",
       "        vertical-align: top;\n",
       "    }\n",
       "\n",
       "    .dataframe thead th {\n",
       "        text-align: right;\n",
       "    }\n",
       "</style>\n",
       "<table border=\"1\" class=\"dataframe\">\n",
       "  <thead>\n",
       "    <tr style=\"text-align: right;\">\n",
       "      <th></th>\n",
       "      <th>ObservationDate</th>\n",
       "      <th>Province/State</th>\n",
       "      <th>Country/Region</th>\n",
       "      <th>Last Update</th>\n",
       "      <th>Confirmed</th>\n",
       "      <th>Deaths</th>\n",
       "      <th>Recovered</th>\n",
       "    </tr>\n",
       "    <tr>\n",
       "      <th>SNo</th>\n",
       "      <th></th>\n",
       "      <th></th>\n",
       "      <th></th>\n",
       "      <th></th>\n",
       "      <th></th>\n",
       "      <th></th>\n",
       "      <th></th>\n",
       "    </tr>\n",
       "  </thead>\n",
       "  <tbody>\n",
       "    <tr>\n",
       "      <th>58292</th>\n",
       "      <td>07/06/2020</td>\n",
       "      <td>Yaroslavl Oblast</td>\n",
       "      <td>Russia</td>\n",
       "      <td>2020-07-07 04:34:00</td>\n",
       "      <td>5031.0</td>\n",
       "      <td>19.0</td>\n",
       "      <td>3763.0</td>\n",
       "    </tr>\n",
       "    <tr>\n",
       "      <th>58293</th>\n",
       "      <td>07/06/2020</td>\n",
       "      <td>Yucatan</td>\n",
       "      <td>Mexico</td>\n",
       "      <td>2020-07-07 04:34:00</td>\n",
       "      <td>5229.0</td>\n",
       "      <td>501.0</td>\n",
       "      <td>3611.0</td>\n",
       "    </tr>\n",
       "    <tr>\n",
       "      <th>58294</th>\n",
       "      <td>07/06/2020</td>\n",
       "      <td>Yukon</td>\n",
       "      <td>Canada</td>\n",
       "      <td>2020-07-07 04:34:00</td>\n",
       "      <td>11.0</td>\n",
       "      <td>0.0</td>\n",
       "      <td>11.0</td>\n",
       "    </tr>\n",
       "    <tr>\n",
       "      <th>58295</th>\n",
       "      <td>07/06/2020</td>\n",
       "      <td>Yunnan</td>\n",
       "      <td>Mainland China</td>\n",
       "      <td>2020-07-07 04:34:00</td>\n",
       "      <td>186.0</td>\n",
       "      <td>2.0</td>\n",
       "      <td>183.0</td>\n",
       "    </tr>\n",
       "    <tr>\n",
       "      <th>58296</th>\n",
       "      <td>07/06/2020</td>\n",
       "      <td>Zabaykalsky Krai</td>\n",
       "      <td>Russia</td>\n",
       "      <td>2020-07-07 04:34:00</td>\n",
       "      <td>3399.0</td>\n",
       "      <td>44.0</td>\n",
       "      <td>2329.0</td>\n",
       "    </tr>\n",
       "    <tr>\n",
       "      <th>58297</th>\n",
       "      <td>07/06/2020</td>\n",
       "      <td>Zacatecas</td>\n",
       "      <td>Mexico</td>\n",
       "      <td>2020-07-07 04:34:00</td>\n",
       "      <td>1140.0</td>\n",
       "      <td>112.0</td>\n",
       "      <td>764.0</td>\n",
       "    </tr>\n",
       "    <tr>\n",
       "      <th>58298</th>\n",
       "      <td>07/06/2020</td>\n",
       "      <td>Zakarpattia Oblast</td>\n",
       "      <td>Ukraine</td>\n",
       "      <td>2020-07-07 04:34:00</td>\n",
       "      <td>3375.0</td>\n",
       "      <td>111.0</td>\n",
       "      <td>1001.0</td>\n",
       "    </tr>\n",
       "    <tr>\n",
       "      <th>58299</th>\n",
       "      <td>07/06/2020</td>\n",
       "      <td>Zaporizhia Oblast</td>\n",
       "      <td>Ukraine</td>\n",
       "      <td>2020-07-07 04:34:00</td>\n",
       "      <td>597.0</td>\n",
       "      <td>17.0</td>\n",
       "      <td>444.0</td>\n",
       "    </tr>\n",
       "    <tr>\n",
       "      <th>58300</th>\n",
       "      <td>07/06/2020</td>\n",
       "      <td>Zhejiang</td>\n",
       "      <td>Mainland China</td>\n",
       "      <td>2020-07-07 04:34:00</td>\n",
       "      <td>1269.0</td>\n",
       "      <td>1.0</td>\n",
       "      <td>1267.0</td>\n",
       "    </tr>\n",
       "    <tr>\n",
       "      <th>58301</th>\n",
       "      <td>07/06/2020</td>\n",
       "      <td>Zhytomyr Oblast</td>\n",
       "      <td>Ukraine</td>\n",
       "      <td>2020-07-07 04:34:00</td>\n",
       "      <td>1468.0</td>\n",
       "      <td>30.0</td>\n",
       "      <td>950.0</td>\n",
       "    </tr>\n",
       "  </tbody>\n",
       "</table>\n",
       "</div>"
      ],
      "text/plain": [
       "      ObservationDate      Province/State  Country/Region  \\\n",
       "SNo                                                         \n",
       "58292      07/06/2020    Yaroslavl Oblast          Russia   \n",
       "58293      07/06/2020             Yucatan          Mexico   \n",
       "58294      07/06/2020               Yukon          Canada   \n",
       "58295      07/06/2020              Yunnan  Mainland China   \n",
       "58296      07/06/2020    Zabaykalsky Krai          Russia   \n",
       "58297      07/06/2020           Zacatecas          Mexico   \n",
       "58298      07/06/2020  Zakarpattia Oblast         Ukraine   \n",
       "58299      07/06/2020   Zaporizhia Oblast         Ukraine   \n",
       "58300      07/06/2020            Zhejiang  Mainland China   \n",
       "58301      07/06/2020     Zhytomyr Oblast         Ukraine   \n",
       "\n",
       "               Last Update  Confirmed  Deaths  Recovered  \n",
       "SNo                                                       \n",
       "58292  2020-07-07 04:34:00     5031.0    19.0     3763.0  \n",
       "58293  2020-07-07 04:34:00     5229.0   501.0     3611.0  \n",
       "58294  2020-07-07 04:34:00       11.0     0.0       11.0  \n",
       "58295  2020-07-07 04:34:00      186.0     2.0      183.0  \n",
       "58296  2020-07-07 04:34:00     3399.0    44.0     2329.0  \n",
       "58297  2020-07-07 04:34:00     1140.0   112.0      764.0  \n",
       "58298  2020-07-07 04:34:00     3375.0   111.0     1001.0  \n",
       "58299  2020-07-07 04:34:00      597.0    17.0      444.0  \n",
       "58300  2020-07-07 04:34:00     1269.0     1.0     1267.0  \n",
       "58301  2020-07-07 04:34:00     1468.0    30.0      950.0  "
      ]
     },
     "execution_count": 120,
     "metadata": {},
     "output_type": "execute_result"
    }
   ],
   "source": [
    "df1.head(10)\n",
    "df1.tail(10)"
   ]
  },
  {
   "cell_type": "code",
   "execution_count": 121,
   "metadata": {},
   "outputs": [
    {
     "data": {
      "text/plain": [
       "ObservationDate    58301\n",
       "Province/State     36230\n",
       "Country/Region     58301\n",
       "Last Update        58301\n",
       "Confirmed          58301\n",
       "Deaths             58301\n",
       "Recovered          58301\n",
       "dtype: int64"
      ]
     },
     "execution_count": 121,
     "metadata": {},
     "output_type": "execute_result"
    }
   ],
   "source": [
    "df1.count()"
   ]
  },
  {
   "cell_type": "code",
   "execution_count": 122,
   "metadata": {},
   "outputs": [
    {
     "data": {
      "text/html": [
       "<div>\n",
       "<style scoped>\n",
       "    .dataframe tbody tr th:only-of-type {\n",
       "        vertical-align: middle;\n",
       "    }\n",
       "\n",
       "    .dataframe tbody tr th {\n",
       "        vertical-align: top;\n",
       "    }\n",
       "\n",
       "    .dataframe thead th {\n",
       "        text-align: right;\n",
       "    }\n",
       "</style>\n",
       "<table border=\"1\" class=\"dataframe\">\n",
       "  <thead>\n",
       "    <tr style=\"text-align: right;\">\n",
       "      <th></th>\n",
       "      <th>ObservationDate</th>\n",
       "      <th>Province/State</th>\n",
       "    </tr>\n",
       "    <tr>\n",
       "      <th>SNo</th>\n",
       "      <th></th>\n",
       "      <th></th>\n",
       "    </tr>\n",
       "  </thead>\n",
       "  <tbody>\n",
       "    <tr>\n",
       "      <th>1</th>\n",
       "      <td>01/22/2020</td>\n",
       "      <td>Anhui</td>\n",
       "    </tr>\n",
       "    <tr>\n",
       "      <th>2</th>\n",
       "      <td>01/22/2020</td>\n",
       "      <td>Beijing</td>\n",
       "    </tr>\n",
       "    <tr>\n",
       "      <th>3</th>\n",
       "      <td>01/22/2020</td>\n",
       "      <td>Chongqing</td>\n",
       "    </tr>\n",
       "    <tr>\n",
       "      <th>4</th>\n",
       "      <td>01/22/2020</td>\n",
       "      <td>Fujian</td>\n",
       "    </tr>\n",
       "    <tr>\n",
       "      <th>5</th>\n",
       "      <td>01/22/2020</td>\n",
       "      <td>Gansu</td>\n",
       "    </tr>\n",
       "  </tbody>\n",
       "</table>\n",
       "</div>"
      ],
      "text/plain": [
       "    ObservationDate Province/State\n",
       "SNo                               \n",
       "1        01/22/2020          Anhui\n",
       "2        01/22/2020        Beijing\n",
       "3        01/22/2020      Chongqing\n",
       "4        01/22/2020         Fujian\n",
       "5        01/22/2020          Gansu"
      ]
     },
     "execution_count": 122,
     "metadata": {},
     "output_type": "execute_result"
    }
   ],
   "source": [
    "df1.iloc[:,[0,1]].head(5)"
   ]
  },
  {
   "cell_type": "code",
   "execution_count": 123,
   "metadata": {},
   "outputs": [
    {
     "data": {
      "text/plain": [
       "array([3, 3, 3, 3])"
      ]
     },
     "execution_count": 123,
     "metadata": {},
     "output_type": "execute_result"
    }
   ],
   "source": [
    "np.array([3] * 4)"
   ]
  },
  {
   "cell_type": "code",
   "execution_count": 124,
   "metadata": {},
   "outputs": [
    {
     "data": {
      "text/plain": [
       "ObservationDate     object\n",
       "Province/State      object\n",
       "Country/Region      object\n",
       "Last Update         object\n",
       "Confirmed          float64\n",
       "Deaths             float64\n",
       "Recovered          float64\n",
       "dtype: object"
      ]
     },
     "execution_count": 124,
     "metadata": {},
     "output_type": "execute_result"
    }
   ],
   "source": [
    "df1.dtypes"
   ]
  },
  {
   "cell_type": "code",
   "execution_count": 125,
   "metadata": {},
   "outputs": [
    {
     "data": {
      "text/html": [
       "<div>\n",
       "<style scoped>\n",
       "    .dataframe tbody tr th:only-of-type {\n",
       "        vertical-align: middle;\n",
       "    }\n",
       "\n",
       "    .dataframe tbody tr th {\n",
       "        vertical-align: top;\n",
       "    }\n",
       "\n",
       "    .dataframe thead th {\n",
       "        text-align: right;\n",
       "    }\n",
       "</style>\n",
       "<table border=\"1\" class=\"dataframe\">\n",
       "  <thead>\n",
       "    <tr style=\"text-align: right;\">\n",
       "      <th></th>\n",
       "      <th>Confirmed</th>\n",
       "      <th>Deaths</th>\n",
       "      <th>Recovered</th>\n",
       "    </tr>\n",
       "  </thead>\n",
       "  <tbody>\n",
       "    <tr>\n",
       "      <th>count</th>\n",
       "      <td>58301.000000</td>\n",
       "      <td>58301.000000</td>\n",
       "      <td>58301.000000</td>\n",
       "    </tr>\n",
       "    <tr>\n",
       "      <th>mean</th>\n",
       "      <td>9130.529922</td>\n",
       "      <td>525.366820</td>\n",
       "      <td>3912.849214</td>\n",
       "    </tr>\n",
       "    <tr>\n",
       "      <th>std</th>\n",
       "      <td>28976.630502</td>\n",
       "      <td>2460.491322</td>\n",
       "      <td>22018.573738</td>\n",
       "    </tr>\n",
       "    <tr>\n",
       "      <th>min</th>\n",
       "      <td>0.000000</td>\n",
       "      <td>0.000000</td>\n",
       "      <td>0.000000</td>\n",
       "    </tr>\n",
       "    <tr>\n",
       "      <th>25%</th>\n",
       "      <td>82.000000</td>\n",
       "      <td>1.000000</td>\n",
       "      <td>0.000000</td>\n",
       "    </tr>\n",
       "    <tr>\n",
       "      <th>50%</th>\n",
       "      <td>800.000000</td>\n",
       "      <td>12.000000</td>\n",
       "      <td>92.000000</td>\n",
       "    </tr>\n",
       "    <tr>\n",
       "      <th>75%</th>\n",
       "      <td>4457.000000</td>\n",
       "      <td>140.000000</td>\n",
       "      <td>1105.000000</td>\n",
       "    </tr>\n",
       "    <tr>\n",
       "      <th>max</th>\n",
       "      <td>405843.000000</td>\n",
       "      <td>41128.000000</td>\n",
       "      <td>924148.000000</td>\n",
       "    </tr>\n",
       "  </tbody>\n",
       "</table>\n",
       "</div>"
      ],
      "text/plain": [
       "           Confirmed        Deaths      Recovered\n",
       "count   58301.000000  58301.000000   58301.000000\n",
       "mean     9130.529922    525.366820    3912.849214\n",
       "std     28976.630502   2460.491322   22018.573738\n",
       "min         0.000000      0.000000       0.000000\n",
       "25%        82.000000      1.000000       0.000000\n",
       "50%       800.000000     12.000000      92.000000\n",
       "75%      4457.000000    140.000000    1105.000000\n",
       "max    405843.000000  41128.000000  924148.000000"
      ]
     },
     "execution_count": 125,
     "metadata": {},
     "output_type": "execute_result"
    }
   ],
   "source": [
    "df1.describe()"
   ]
  },
  {
   "cell_type": "code",
   "execution_count": 126,
   "metadata": {},
   "outputs": [],
   "source": [
    "series_time = df1.ObservationDate"
   ]
  },
  {
   "cell_type": "code",
   "execution_count": 127,
   "metadata": {},
   "outputs": [
    {
     "data": {
      "text/plain": [
       "SNo\n",
       "1    01/22/2020\n",
       "2    01/22/2020\n",
       "3    01/22/2020\n",
       "4    01/22/2020\n",
       "5    01/22/2020\n",
       "Name: ObservationDate, dtype: object"
      ]
     },
     "execution_count": 127,
     "metadata": {},
     "output_type": "execute_result"
    }
   ],
   "source": [
    "series_time.head()"
   ]
  },
  {
   "cell_type": "code",
   "execution_count": 128,
   "metadata": {},
   "outputs": [
    {
     "data": {
      "text/plain": [
       "pandas.core.series.Series"
      ]
     },
     "execution_count": 128,
     "metadata": {},
     "output_type": "execute_result"
    }
   ],
   "source": [
    "type(series_time)"
   ]
  },
  {
   "cell_type": "code",
   "execution_count": 129,
   "metadata": {},
   "outputs": [],
   "source": [
    "df1_time = pd.DataFrame(series_time)"
   ]
  },
  {
   "cell_type": "code",
   "execution_count": 130,
   "metadata": {},
   "outputs": [
    {
     "data": {
      "text/html": [
       "<div>\n",
       "<style scoped>\n",
       "    .dataframe tbody tr th:only-of-type {\n",
       "        vertical-align: middle;\n",
       "    }\n",
       "\n",
       "    .dataframe tbody tr th {\n",
       "        vertical-align: top;\n",
       "    }\n",
       "\n",
       "    .dataframe thead th {\n",
       "        text-align: right;\n",
       "    }\n",
       "</style>\n",
       "<table border=\"1\" class=\"dataframe\">\n",
       "  <thead>\n",
       "    <tr style=\"text-align: right;\">\n",
       "      <th></th>\n",
       "      <th>ObservationDate</th>\n",
       "    </tr>\n",
       "    <tr>\n",
       "      <th>SNo</th>\n",
       "      <th></th>\n",
       "    </tr>\n",
       "  </thead>\n",
       "  <tbody>\n",
       "    <tr>\n",
       "      <th>1</th>\n",
       "      <td>01/22/2020</td>\n",
       "    </tr>\n",
       "    <tr>\n",
       "      <th>2</th>\n",
       "      <td>01/22/2020</td>\n",
       "    </tr>\n",
       "    <tr>\n",
       "      <th>3</th>\n",
       "      <td>01/22/2020</td>\n",
       "    </tr>\n",
       "    <tr>\n",
       "      <th>4</th>\n",
       "      <td>01/22/2020</td>\n",
       "    </tr>\n",
       "    <tr>\n",
       "      <th>5</th>\n",
       "      <td>01/22/2020</td>\n",
       "    </tr>\n",
       "  </tbody>\n",
       "</table>\n",
       "</div>"
      ],
      "text/plain": [
       "    ObservationDate\n",
       "SNo                \n",
       "1        01/22/2020\n",
       "2        01/22/2020\n",
       "3        01/22/2020\n",
       "4        01/22/2020\n",
       "5        01/22/2020"
      ]
     },
     "execution_count": 130,
     "metadata": {},
     "output_type": "execute_result"
    }
   ],
   "source": [
    "df1_time.head()"
   ]
  },
  {
   "cell_type": "code",
   "execution_count": 131,
   "metadata": {},
   "outputs": [
    {
     "data": {
      "text/plain": [
       "pandas.core.frame.DataFrame"
      ]
     },
     "execution_count": 131,
     "metadata": {},
     "output_type": "execute_result"
    }
   ],
   "source": [
    "type(df1_time)"
   ]
  },
  {
   "cell_type": "code",
   "execution_count": 132,
   "metadata": {},
   "outputs": [],
   "source": [
    "df1_time['ObservationDate'] = pd.to_datetime(df1_time.ObservationDate, format='%m/%d/%Y')"
   ]
  },
  {
   "cell_type": "code",
   "execution_count": 133,
   "metadata": {},
   "outputs": [
    {
     "data": {
      "text/plain": [
       "pandas.core.frame.DataFrame"
      ]
     },
     "execution_count": 133,
     "metadata": {},
     "output_type": "execute_result"
    }
   ],
   "source": [
    "type(df1_time)"
   ]
  },
  {
   "cell_type": "code",
   "execution_count": 134,
   "metadata": {},
   "outputs": [
    {
     "data": {
      "text/plain": [
       "ObservationDate    datetime64[ns]\n",
       "dtype: object"
      ]
     },
     "execution_count": 134,
     "metadata": {},
     "output_type": "execute_result"
    }
   ],
   "source": [
    "df1_time.dtypes"
   ]
  },
  {
   "cell_type": "code",
   "execution_count": 135,
   "metadata": {},
   "outputs": [
    {
     "data": {
      "text/plain": [
       "2.2737367544323206e-11"
      ]
     },
     "execution_count": 135,
     "metadata": {},
     "output_type": "execute_result"
    }
   ],
   "source": [
    "df1_time1 = 2**42\n",
    "100.0/df1_time1"
   ]
  },
  {
   "cell_type": "code",
   "execution_count": 136,
   "metadata": {},
   "outputs": [],
   "source": [
    "df1['ObservationDate'] = pd.to_datetime(df1.ObservationDate, format='%m/%d/%Y')"
   ]
  },
  {
   "cell_type": "code",
   "execution_count": 137,
   "metadata": {},
   "outputs": [
    {
     "data": {
      "text/plain": [
       "ObservationDate    datetime64[ns]\n",
       "Province/State             object\n",
       "Country/Region             object\n",
       "Last Update                object\n",
       "Confirmed                 float64\n",
       "Deaths                    float64\n",
       "Recovered                 float64\n",
       "dtype: object"
      ]
     },
     "execution_count": 137,
     "metadata": {},
     "output_type": "execute_result"
    }
   ],
   "source": [
    "df1.dtypes"
   ]
  },
  {
   "cell_type": "code",
   "execution_count": 138,
   "metadata": {},
   "outputs": [
    {
     "data": {
      "text/html": [
       "<div>\n",
       "<style scoped>\n",
       "    .dataframe tbody tr th:only-of-type {\n",
       "        vertical-align: middle;\n",
       "    }\n",
       "\n",
       "    .dataframe tbody tr th {\n",
       "        vertical-align: top;\n",
       "    }\n",
       "\n",
       "    .dataframe thead th {\n",
       "        text-align: right;\n",
       "    }\n",
       "</style>\n",
       "<table border=\"1\" class=\"dataframe\">\n",
       "  <thead>\n",
       "    <tr style=\"text-align: right;\">\n",
       "      <th></th>\n",
       "      <th>ObservationDate</th>\n",
       "      <th>Province/State</th>\n",
       "      <th>Country/Region</th>\n",
       "      <th>Last Update</th>\n",
       "      <th>Confirmed</th>\n",
       "      <th>Deaths</th>\n",
       "      <th>Recovered</th>\n",
       "    </tr>\n",
       "    <tr>\n",
       "      <th>SNo</th>\n",
       "      <th></th>\n",
       "      <th></th>\n",
       "      <th></th>\n",
       "      <th></th>\n",
       "      <th></th>\n",
       "      <th></th>\n",
       "      <th></th>\n",
       "    </tr>\n",
       "  </thead>\n",
       "  <tbody>\n",
       "    <tr>\n",
       "      <th>1</th>\n",
       "      <td>2020-01-22</td>\n",
       "      <td>Anhui</td>\n",
       "      <td>Mainland China</td>\n",
       "      <td>1/22/2020 17:00</td>\n",
       "      <td>1.0</td>\n",
       "      <td>0.0</td>\n",
       "      <td>0.0</td>\n",
       "    </tr>\n",
       "    <tr>\n",
       "      <th>2</th>\n",
       "      <td>2020-01-22</td>\n",
       "      <td>Beijing</td>\n",
       "      <td>Mainland China</td>\n",
       "      <td>1/22/2020 17:00</td>\n",
       "      <td>14.0</td>\n",
       "      <td>0.0</td>\n",
       "      <td>0.0</td>\n",
       "    </tr>\n",
       "    <tr>\n",
       "      <th>3</th>\n",
       "      <td>2020-01-22</td>\n",
       "      <td>Chongqing</td>\n",
       "      <td>Mainland China</td>\n",
       "      <td>1/22/2020 17:00</td>\n",
       "      <td>6.0</td>\n",
       "      <td>0.0</td>\n",
       "      <td>0.0</td>\n",
       "    </tr>\n",
       "    <tr>\n",
       "      <th>4</th>\n",
       "      <td>2020-01-22</td>\n",
       "      <td>Fujian</td>\n",
       "      <td>Mainland China</td>\n",
       "      <td>1/22/2020 17:00</td>\n",
       "      <td>1.0</td>\n",
       "      <td>0.0</td>\n",
       "      <td>0.0</td>\n",
       "    </tr>\n",
       "    <tr>\n",
       "      <th>5</th>\n",
       "      <td>2020-01-22</td>\n",
       "      <td>Gansu</td>\n",
       "      <td>Mainland China</td>\n",
       "      <td>1/22/2020 17:00</td>\n",
       "      <td>0.0</td>\n",
       "      <td>0.0</td>\n",
       "      <td>0.0</td>\n",
       "    </tr>\n",
       "  </tbody>\n",
       "</table>\n",
       "</div>"
      ],
      "text/plain": [
       "    ObservationDate Province/State  Country/Region      Last Update  \\\n",
       "SNo                                                                   \n",
       "1        2020-01-22          Anhui  Mainland China  1/22/2020 17:00   \n",
       "2        2020-01-22        Beijing  Mainland China  1/22/2020 17:00   \n",
       "3        2020-01-22      Chongqing  Mainland China  1/22/2020 17:00   \n",
       "4        2020-01-22         Fujian  Mainland China  1/22/2020 17:00   \n",
       "5        2020-01-22          Gansu  Mainland China  1/22/2020 17:00   \n",
       "\n",
       "     Confirmed  Deaths  Recovered  \n",
       "SNo                                \n",
       "1          1.0     0.0        0.0  \n",
       "2         14.0     0.0        0.0  \n",
       "3          6.0     0.0        0.0  \n",
       "4          1.0     0.0        0.0  \n",
       "5          0.0     0.0        0.0  "
      ]
     },
     "execution_count": 138,
     "metadata": {},
     "output_type": "execute_result"
    }
   ],
   "source": [
    "df1.head()"
   ]
  },
  {
   "cell_type": "code",
   "execution_count": 144,
   "metadata": {},
   "outputs": [
    {
     "data": {
      "text/plain": [
       "pandas.core.series.Series"
      ]
     },
     "execution_count": 144,
     "metadata": {},
     "output_type": "execute_result"
    }
   ],
   "source": [
    "type(df1.loc[:,'Last Update'])\n",
    "#df1.loc[:,'Last Update'].head()"
   ]
  },
  {
   "cell_type": "code",
   "execution_count": 159,
   "metadata": {},
   "outputs": [
    {
     "data": {
      "text/plain": [
       "SNo\n",
       "1    1/22/2020 17:00:00\n",
       "2    1/22/2020 17:00:00\n",
       "3    1/22/2020 17:00:00\n",
       "4    1/22/2020 17:00:00\n",
       "5    1/22/2020 17:00:00\n",
       "Name: Last Update, dtype: object"
      ]
     },
     "execution_count": 159,
     "metadata": {},
     "output_type": "execute_result"
    }
   ],
   "source": [
    "add_default_seconds = lambda s: s + \":00\"\n",
    "test = df1.loc[:,'Last Update'].apply(add_default_seconds)\n",
    "test.head()\n",
    "## This idea is useless because sometimes the 'seconds' part is defined in the data."
   ]
  },
  {
   "cell_type": "code",
   "execution_count": 163,
   "metadata": {},
   "outputs": [
    {
     "data": {
      "text/plain": [
       "array([15, 13, 14, 19, 11])"
      ]
     },
     "execution_count": 163,
     "metadata": {},
     "output_type": "execute_result"
    }
   ],
   "source": [
    "test = df1['Last Update'].apply(len).unique()\n",
    "test"
   ]
  },
  {
   "cell_type": "raw",
   "metadata": {},
   "source": [
    "## There are different formats of 'Last Update' dttm in data.\n",
    "## Therefore this column is difficult to parse to get exact dttm value.\n",
    "## Skipping the operation to get full info. from this col. as it has low impact on analysis."
   ]
  },
  {
   "cell_type": "code",
   "execution_count": 195,
   "metadata": {},
   "outputs": [
    {
     "data": {
      "text/plain": [
       "SNo\n",
       "1    1/22/2020 \n",
       "2    1/22/2020 \n",
       "3    1/22/2020 \n",
       "4    1/22/2020 \n",
       "5    1/22/2020 \n",
       "Name: Last Update, dtype: object"
      ]
     },
     "execution_count": 195,
     "metadata": {},
     "output_type": "execute_result"
    }
   ],
   "source": [
    "get_date_value = lambda s: s[:10]\n",
    "test = df1['Last Update'].apply(get_date_value)\n",
    "test.head()\n",
    "## This method prove unreliable because the dates format is heterogeneous"
   ]
  },
  {
   "cell_type": "code",
   "execution_count": 196,
   "metadata": {},
   "outputs": [],
   "source": [
    "df1['Last Update Parsed'] = pd.to_datetime(df1.loc[:,'Last Update'])"
   ]
  },
  {
   "cell_type": "code",
   "execution_count": 201,
   "metadata": {},
   "outputs": [
    {
     "data": {
      "text/html": [
       "<div>\n",
       "<style scoped>\n",
       "    .dataframe tbody tr th:only-of-type {\n",
       "        vertical-align: middle;\n",
       "    }\n",
       "\n",
       "    .dataframe tbody tr th {\n",
       "        vertical-align: top;\n",
       "    }\n",
       "\n",
       "    .dataframe thead th {\n",
       "        text-align: right;\n",
       "    }\n",
       "</style>\n",
       "<table border=\"1\" class=\"dataframe\">\n",
       "  <thead>\n",
       "    <tr style=\"text-align: right;\">\n",
       "      <th></th>\n",
       "      <th>ObservationDate</th>\n",
       "      <th>Province/State</th>\n",
       "      <th>Country/Region</th>\n",
       "      <th>Last Update</th>\n",
       "      <th>Confirmed</th>\n",
       "      <th>Deaths</th>\n",
       "      <th>Recovered</th>\n",
       "      <th>Last Update Parsed</th>\n",
       "    </tr>\n",
       "    <tr>\n",
       "      <th>SNo</th>\n",
       "      <th></th>\n",
       "      <th></th>\n",
       "      <th></th>\n",
       "      <th></th>\n",
       "      <th></th>\n",
       "      <th></th>\n",
       "      <th></th>\n",
       "      <th></th>\n",
       "    </tr>\n",
       "  </thead>\n",
       "  <tbody>\n",
       "    <tr>\n",
       "      <th>58102</th>\n",
       "      <td>2020-07-06</td>\n",
       "      <td>Okinawa</td>\n",
       "      <td>Japan</td>\n",
       "      <td>2020-07-07 04:34:00</td>\n",
       "      <td>145.0</td>\n",
       "      <td>7.0</td>\n",
       "      <td>138.0</td>\n",
       "      <td>2020-07-07 04:34:00</td>\n",
       "    </tr>\n",
       "    <tr>\n",
       "      <th>58103</th>\n",
       "      <td>2020-07-06</td>\n",
       "      <td>Oklahoma</td>\n",
       "      <td>US</td>\n",
       "      <td>2020-07-07 04:34:00</td>\n",
       "      <td>16362.0</td>\n",
       "      <td>399.0</td>\n",
       "      <td>0.0</td>\n",
       "      <td>2020-07-07 04:34:00</td>\n",
       "    </tr>\n",
       "    <tr>\n",
       "      <th>58104</th>\n",
       "      <td>2020-07-06</td>\n",
       "      <td>Omsk Oblast</td>\n",
       "      <td>Russia</td>\n",
       "      <td>2020-07-07 04:34:00</td>\n",
       "      <td>4120.0</td>\n",
       "      <td>35.0</td>\n",
       "      <td>2209.0</td>\n",
       "      <td>2020-07-07 04:34:00</td>\n",
       "    </tr>\n",
       "    <tr>\n",
       "      <th>58105</th>\n",
       "      <td>2020-07-06</td>\n",
       "      <td>Ontario</td>\n",
       "      <td>Canada</td>\n",
       "      <td>2020-07-07 04:34:00</td>\n",
       "      <td>37829.0</td>\n",
       "      <td>2743.0</td>\n",
       "      <td>32997.0</td>\n",
       "      <td>2020-07-07 04:34:00</td>\n",
       "    </tr>\n",
       "    <tr>\n",
       "      <th>58106</th>\n",
       "      <td>2020-07-06</td>\n",
       "      <td>Orebro</td>\n",
       "      <td>Sweden</td>\n",
       "      <td>2020-07-07 04:34:00</td>\n",
       "      <td>2421.0</td>\n",
       "      <td>164.0</td>\n",
       "      <td>0.0</td>\n",
       "      <td>2020-07-07 04:34:00</td>\n",
       "    </tr>\n",
       "    <tr>\n",
       "      <th>...</th>\n",
       "      <td>...</td>\n",
       "      <td>...</td>\n",
       "      <td>...</td>\n",
       "      <td>...</td>\n",
       "      <td>...</td>\n",
       "      <td>...</td>\n",
       "      <td>...</td>\n",
       "      <td>...</td>\n",
       "    </tr>\n",
       "    <tr>\n",
       "      <th>58297</th>\n",
       "      <td>2020-07-06</td>\n",
       "      <td>Zacatecas</td>\n",
       "      <td>Mexico</td>\n",
       "      <td>2020-07-07 04:34:00</td>\n",
       "      <td>1140.0</td>\n",
       "      <td>112.0</td>\n",
       "      <td>764.0</td>\n",
       "      <td>2020-07-07 04:34:00</td>\n",
       "    </tr>\n",
       "    <tr>\n",
       "      <th>58298</th>\n",
       "      <td>2020-07-06</td>\n",
       "      <td>Zakarpattia Oblast</td>\n",
       "      <td>Ukraine</td>\n",
       "      <td>2020-07-07 04:34:00</td>\n",
       "      <td>3375.0</td>\n",
       "      <td>111.0</td>\n",
       "      <td>1001.0</td>\n",
       "      <td>2020-07-07 04:34:00</td>\n",
       "    </tr>\n",
       "    <tr>\n",
       "      <th>58299</th>\n",
       "      <td>2020-07-06</td>\n",
       "      <td>Zaporizhia Oblast</td>\n",
       "      <td>Ukraine</td>\n",
       "      <td>2020-07-07 04:34:00</td>\n",
       "      <td>597.0</td>\n",
       "      <td>17.0</td>\n",
       "      <td>444.0</td>\n",
       "      <td>2020-07-07 04:34:00</td>\n",
       "    </tr>\n",
       "    <tr>\n",
       "      <th>58300</th>\n",
       "      <td>2020-07-06</td>\n",
       "      <td>Zhejiang</td>\n",
       "      <td>Mainland China</td>\n",
       "      <td>2020-07-07 04:34:00</td>\n",
       "      <td>1269.0</td>\n",
       "      <td>1.0</td>\n",
       "      <td>1267.0</td>\n",
       "      <td>2020-07-07 04:34:00</td>\n",
       "    </tr>\n",
       "    <tr>\n",
       "      <th>58301</th>\n",
       "      <td>2020-07-06</td>\n",
       "      <td>Zhytomyr Oblast</td>\n",
       "      <td>Ukraine</td>\n",
       "      <td>2020-07-07 04:34:00</td>\n",
       "      <td>1468.0</td>\n",
       "      <td>30.0</td>\n",
       "      <td>950.0</td>\n",
       "      <td>2020-07-07 04:34:00</td>\n",
       "    </tr>\n",
       "  </tbody>\n",
       "</table>\n",
       "<p>200 rows × 8 columns</p>\n",
       "</div>"
      ],
      "text/plain": [
       "      ObservationDate      Province/State  Country/Region  \\\n",
       "SNo                                                         \n",
       "58102      2020-07-06             Okinawa           Japan   \n",
       "58103      2020-07-06            Oklahoma              US   \n",
       "58104      2020-07-06         Omsk Oblast          Russia   \n",
       "58105      2020-07-06             Ontario          Canada   \n",
       "58106      2020-07-06              Orebro          Sweden   \n",
       "...               ...                 ...             ...   \n",
       "58297      2020-07-06           Zacatecas          Mexico   \n",
       "58298      2020-07-06  Zakarpattia Oblast         Ukraine   \n",
       "58299      2020-07-06   Zaporizhia Oblast         Ukraine   \n",
       "58300      2020-07-06            Zhejiang  Mainland China   \n",
       "58301      2020-07-06     Zhytomyr Oblast         Ukraine   \n",
       "\n",
       "               Last Update  Confirmed  Deaths  Recovered  Last Update Parsed  \n",
       "SNo                                                                           \n",
       "58102  2020-07-07 04:34:00      145.0     7.0      138.0 2020-07-07 04:34:00  \n",
       "58103  2020-07-07 04:34:00    16362.0   399.0        0.0 2020-07-07 04:34:00  \n",
       "58104  2020-07-07 04:34:00     4120.0    35.0     2209.0 2020-07-07 04:34:00  \n",
       "58105  2020-07-07 04:34:00    37829.0  2743.0    32997.0 2020-07-07 04:34:00  \n",
       "58106  2020-07-07 04:34:00     2421.0   164.0        0.0 2020-07-07 04:34:00  \n",
       "...                    ...        ...     ...        ...                 ...  \n",
       "58297  2020-07-07 04:34:00     1140.0   112.0      764.0 2020-07-07 04:34:00  \n",
       "58298  2020-07-07 04:34:00     3375.0   111.0     1001.0 2020-07-07 04:34:00  \n",
       "58299  2020-07-07 04:34:00      597.0    17.0      444.0 2020-07-07 04:34:00  \n",
       "58300  2020-07-07 04:34:00     1269.0     1.0     1267.0 2020-07-07 04:34:00  \n",
       "58301  2020-07-07 04:34:00     1468.0    30.0      950.0 2020-07-07 04:34:00  \n",
       "\n",
       "[200 rows x 8 columns]"
      ]
     },
     "execution_count": 201,
     "metadata": {},
     "output_type": "execute_result"
    }
   ],
   "source": [
    "df1.tail(200)"
   ]
  },
  {
   "cell_type": "code",
   "execution_count": 212,
   "metadata": {},
   "outputs": [
    {
     "data": {
      "text/plain": [
       "574276.0"
      ]
     },
     "execution_count": 212,
     "metadata": {},
     "output_type": "execute_result"
    }
   ],
   "source": [
    "df1[df1['Country/Region']==\"Mainland China\"]['Deaths'].sum()"
   ]
  },
  {
   "cell_type": "code",
   "execution_count": 218,
   "metadata": {},
   "outputs": [
    {
     "data": {
      "text/plain": [
       "30629411.0"
      ]
     },
     "execution_count": 218,
     "metadata": {},
     "output_type": "execute_result"
    }
   ],
   "source": [
    "df1['Deaths'].sum()"
   ]
  },
  {
   "cell_type": "code",
   "execution_count": 219,
   "metadata": {},
   "outputs": [
    {
     "data": {
      "text/plain": [
       "Deaths         574276.0\n",
       "Confirmed    12215418.0\n",
       "dtype: float64"
      ]
     },
     "execution_count": 219,
     "metadata": {},
     "output_type": "execute_result"
    }
   ],
   "source": [
    "df1[df1['Country/Region']==\"Mainland China\"][['Deaths','Confirmed']].sum()"
   ]
  },
  {
   "cell_type": "code",
   "execution_count": 225,
   "metadata": {},
   "outputs": [
    {
     "data": {
      "text/plain": [
       "['ObservationDate',\n",
       " 'Province/State',\n",
       " 'Country/Region',\n",
       " 'Last Update',\n",
       " 'Confirmed',\n",
       " 'Deaths',\n",
       " 'Recovered',\n",
       " 'Last Update Parsed']"
      ]
     },
     "execution_count": 225,
     "metadata": {},
     "output_type": "execute_result"
    }
   ],
   "source": [
    "list(df1.columns)"
   ]
  },
  {
   "cell_type": "code",
   "execution_count": 233,
   "metadata": {},
   "outputs": [
    {
     "data": {
      "text/html": [
       "<div>\n",
       "<style scoped>\n",
       "    .dataframe tbody tr th:only-of-type {\n",
       "        vertical-align: middle;\n",
       "    }\n",
       "\n",
       "    .dataframe tbody tr th {\n",
       "        vertical-align: top;\n",
       "    }\n",
       "\n",
       "    .dataframe thead th {\n",
       "        text-align: right;\n",
       "    }\n",
       "</style>\n",
       "<table border=\"1\" class=\"dataframe\">\n",
       "  <thead>\n",
       "    <tr style=\"text-align: right;\">\n",
       "      <th></th>\n",
       "      <th>ObservationDate</th>\n",
       "      <th>Province/State</th>\n",
       "      <th>Country/Region</th>\n",
       "      <th>Last Update</th>\n",
       "      <th>Confirmed</th>\n",
       "      <th>Deaths</th>\n",
       "      <th>Recovered</th>\n",
       "      <th>Last Update Parsed</th>\n",
       "    </tr>\n",
       "    <tr>\n",
       "      <th>SNo</th>\n",
       "      <th></th>\n",
       "      <th></th>\n",
       "      <th></th>\n",
       "      <th></th>\n",
       "      <th></th>\n",
       "      <th></th>\n",
       "      <th></th>\n",
       "      <th></th>\n",
       "    </tr>\n",
       "  </thead>\n",
       "  <tbody>\n",
       "    <tr>\n",
       "      <th>1</th>\n",
       "      <td>False</td>\n",
       "      <td>False</td>\n",
       "      <td>False</td>\n",
       "      <td>False</td>\n",
       "      <td>False</td>\n",
       "      <td>False</td>\n",
       "      <td>False</td>\n",
       "      <td>False</td>\n",
       "    </tr>\n",
       "    <tr>\n",
       "      <th>2</th>\n",
       "      <td>False</td>\n",
       "      <td>False</td>\n",
       "      <td>False</td>\n",
       "      <td>False</td>\n",
       "      <td>False</td>\n",
       "      <td>False</td>\n",
       "      <td>False</td>\n",
       "      <td>False</td>\n",
       "    </tr>\n",
       "    <tr>\n",
       "      <th>3</th>\n",
       "      <td>False</td>\n",
       "      <td>False</td>\n",
       "      <td>False</td>\n",
       "      <td>False</td>\n",
       "      <td>False</td>\n",
       "      <td>False</td>\n",
       "      <td>False</td>\n",
       "      <td>False</td>\n",
       "    </tr>\n",
       "    <tr>\n",
       "      <th>4</th>\n",
       "      <td>False</td>\n",
       "      <td>False</td>\n",
       "      <td>False</td>\n",
       "      <td>False</td>\n",
       "      <td>False</td>\n",
       "      <td>False</td>\n",
       "      <td>False</td>\n",
       "      <td>False</td>\n",
       "    </tr>\n",
       "    <tr>\n",
       "      <th>5</th>\n",
       "      <td>False</td>\n",
       "      <td>False</td>\n",
       "      <td>False</td>\n",
       "      <td>False</td>\n",
       "      <td>False</td>\n",
       "      <td>False</td>\n",
       "      <td>False</td>\n",
       "      <td>False</td>\n",
       "    </tr>\n",
       "  </tbody>\n",
       "</table>\n",
       "</div>"
      ],
      "text/plain": [
       "     ObservationDate  Province/State  Country/Region  Last Update  Confirmed  \\\n",
       "SNo                                                                            \n",
       "1              False           False           False        False      False   \n",
       "2              False           False           False        False      False   \n",
       "3              False           False           False        False      False   \n",
       "4              False           False           False        False      False   \n",
       "5              False           False           False        False      False   \n",
       "\n",
       "     Deaths  Recovered  Last Update Parsed  \n",
       "SNo                                         \n",
       "1     False      False               False  \n",
       "2     False      False               False  \n",
       "3     False      False               False  \n",
       "4     False      False               False  \n",
       "5     False      False               False  "
      ]
     },
     "execution_count": 233,
     "metadata": {},
     "output_type": "execute_result"
    }
   ],
   "source": [
    "test = pd.isna(df1)\n",
    "test.head()"
   ]
  },
  {
   "cell_type": "code",
   "execution_count": 237,
   "metadata": {},
   "outputs": [],
   "source": [
    "df = df1.copy()"
   ]
  },
  {
   "cell_type": "code",
   "execution_count": 252,
   "metadata": {},
   "outputs": [
    {
     "data": {
      "text/html": [
       "<div>\n",
       "<style scoped>\n",
       "    .dataframe tbody tr th:only-of-type {\n",
       "        vertical-align: middle;\n",
       "    }\n",
       "\n",
       "    .dataframe tbody tr th {\n",
       "        vertical-align: top;\n",
       "    }\n",
       "\n",
       "    .dataframe thead th {\n",
       "        text-align: right;\n",
       "    }\n",
       "</style>\n",
       "<table border=\"1\" class=\"dataframe\">\n",
       "  <thead>\n",
       "    <tr style=\"text-align: right;\">\n",
       "      <th></th>\n",
       "      <th>ObservationDate</th>\n",
       "      <th>Province/State</th>\n",
       "      <th>Country/Region</th>\n",
       "      <th>Last Update</th>\n",
       "      <th>Confirmed</th>\n",
       "      <th>Deaths</th>\n",
       "      <th>Recovered</th>\n",
       "      <th>Last Update Parsed</th>\n",
       "    </tr>\n",
       "    <tr>\n",
       "      <th>SNo</th>\n",
       "      <th></th>\n",
       "      <th></th>\n",
       "      <th></th>\n",
       "      <th></th>\n",
       "      <th></th>\n",
       "      <th></th>\n",
       "      <th></th>\n",
       "      <th></th>\n",
       "    </tr>\n",
       "  </thead>\n",
       "  <tbody>\n",
       "    <tr>\n",
       "      <th>1</th>\n",
       "      <td>2020-01-22</td>\n",
       "      <td>Anhui</td>\n",
       "      <td>Mainland China</td>\n",
       "      <td>1/22/2020 17:00</td>\n",
       "      <td>1.0</td>\n",
       "      <td>0.0</td>\n",
       "      <td>0.0</td>\n",
       "      <td>2020-01-22 17:00:00</td>\n",
       "    </tr>\n",
       "    <tr>\n",
       "      <th>2</th>\n",
       "      <td>2020-01-22</td>\n",
       "      <td>Beijing</td>\n",
       "      <td>Mainland China</td>\n",
       "      <td>1/22/2020 17:00</td>\n",
       "      <td>14.0</td>\n",
       "      <td>0.0</td>\n",
       "      <td>0.0</td>\n",
       "      <td>2020-01-22 17:00:00</td>\n",
       "    </tr>\n",
       "    <tr>\n",
       "      <th>3</th>\n",
       "      <td>2020-01-22</td>\n",
       "      <td>Chongqing</td>\n",
       "      <td>Mainland China</td>\n",
       "      <td>1/22/2020 17:00</td>\n",
       "      <td>6.0</td>\n",
       "      <td>0.0</td>\n",
       "      <td>0.0</td>\n",
       "      <td>2020-01-22 17:00:00</td>\n",
       "    </tr>\n",
       "    <tr>\n",
       "      <th>4</th>\n",
       "      <td>2020-01-22</td>\n",
       "      <td>Fujian</td>\n",
       "      <td>Mainland China</td>\n",
       "      <td>1/22/2020 17:00</td>\n",
       "      <td>1.0</td>\n",
       "      <td>0.0</td>\n",
       "      <td>0.0</td>\n",
       "      <td>2020-01-22 17:00:00</td>\n",
       "    </tr>\n",
       "    <tr>\n",
       "      <th>5</th>\n",
       "      <td>2020-01-22</td>\n",
       "      <td>Gansu</td>\n",
       "      <td>Mainland China</td>\n",
       "      <td>1/22/2020 17:00</td>\n",
       "      <td>0.0</td>\n",
       "      <td>0.0</td>\n",
       "      <td>0.0</td>\n",
       "      <td>2020-01-22 17:00:00</td>\n",
       "    </tr>\n",
       "    <tr>\n",
       "      <th>...</th>\n",
       "      <td>...</td>\n",
       "      <td>...</td>\n",
       "      <td>...</td>\n",
       "      <td>...</td>\n",
       "      <td>...</td>\n",
       "      <td>...</td>\n",
       "      <td>...</td>\n",
       "      <td>...</td>\n",
       "    </tr>\n",
       "    <tr>\n",
       "      <th>58297</th>\n",
       "      <td>2020-07-06</td>\n",
       "      <td>Zacatecas</td>\n",
       "      <td>Mexico</td>\n",
       "      <td>2020-07-07 04:34:00</td>\n",
       "      <td>1140.0</td>\n",
       "      <td>112.0</td>\n",
       "      <td>764.0</td>\n",
       "      <td>2020-07-07 04:34:00</td>\n",
       "    </tr>\n",
       "    <tr>\n",
       "      <th>58298</th>\n",
       "      <td>2020-07-06</td>\n",
       "      <td>Zakarpattia Oblast</td>\n",
       "      <td>Ukraine</td>\n",
       "      <td>2020-07-07 04:34:00</td>\n",
       "      <td>3375.0</td>\n",
       "      <td>111.0</td>\n",
       "      <td>1001.0</td>\n",
       "      <td>2020-07-07 04:34:00</td>\n",
       "    </tr>\n",
       "    <tr>\n",
       "      <th>58299</th>\n",
       "      <td>2020-07-06</td>\n",
       "      <td>Zaporizhia Oblast</td>\n",
       "      <td>Ukraine</td>\n",
       "      <td>2020-07-07 04:34:00</td>\n",
       "      <td>597.0</td>\n",
       "      <td>17.0</td>\n",
       "      <td>444.0</td>\n",
       "      <td>2020-07-07 04:34:00</td>\n",
       "    </tr>\n",
       "    <tr>\n",
       "      <th>58300</th>\n",
       "      <td>2020-07-06</td>\n",
       "      <td>Zhejiang</td>\n",
       "      <td>Mainland China</td>\n",
       "      <td>2020-07-07 04:34:00</td>\n",
       "      <td>1269.0</td>\n",
       "      <td>1.0</td>\n",
       "      <td>1267.0</td>\n",
       "      <td>2020-07-07 04:34:00</td>\n",
       "    </tr>\n",
       "    <tr>\n",
       "      <th>58301</th>\n",
       "      <td>2020-07-06</td>\n",
       "      <td>Zhytomyr Oblast</td>\n",
       "      <td>Ukraine</td>\n",
       "      <td>2020-07-07 04:34:00</td>\n",
       "      <td>1468.0</td>\n",
       "      <td>30.0</td>\n",
       "      <td>950.0</td>\n",
       "      <td>2020-07-07 04:34:00</td>\n",
       "    </tr>\n",
       "  </tbody>\n",
       "</table>\n",
       "<p>36230 rows × 8 columns</p>\n",
       "</div>"
      ],
      "text/plain": [
       "      ObservationDate      Province/State  Country/Region  \\\n",
       "SNo                                                         \n",
       "1          2020-01-22               Anhui  Mainland China   \n",
       "2          2020-01-22             Beijing  Mainland China   \n",
       "3          2020-01-22           Chongqing  Mainland China   \n",
       "4          2020-01-22              Fujian  Mainland China   \n",
       "5          2020-01-22               Gansu  Mainland China   \n",
       "...               ...                 ...             ...   \n",
       "58297      2020-07-06           Zacatecas          Mexico   \n",
       "58298      2020-07-06  Zakarpattia Oblast         Ukraine   \n",
       "58299      2020-07-06   Zaporizhia Oblast         Ukraine   \n",
       "58300      2020-07-06            Zhejiang  Mainland China   \n",
       "58301      2020-07-06     Zhytomyr Oblast         Ukraine   \n",
       "\n",
       "               Last Update  Confirmed  Deaths  Recovered  Last Update Parsed  \n",
       "SNo                                                                           \n",
       "1          1/22/2020 17:00        1.0     0.0        0.0 2020-01-22 17:00:00  \n",
       "2          1/22/2020 17:00       14.0     0.0        0.0 2020-01-22 17:00:00  \n",
       "3          1/22/2020 17:00        6.0     0.0        0.0 2020-01-22 17:00:00  \n",
       "4          1/22/2020 17:00        1.0     0.0        0.0 2020-01-22 17:00:00  \n",
       "5          1/22/2020 17:00        0.0     0.0        0.0 2020-01-22 17:00:00  \n",
       "...                    ...        ...     ...        ...                 ...  \n",
       "58297  2020-07-07 04:34:00     1140.0   112.0      764.0 2020-07-07 04:34:00  \n",
       "58298  2020-07-07 04:34:00     3375.0   111.0     1001.0 2020-07-07 04:34:00  \n",
       "58299  2020-07-07 04:34:00      597.0    17.0      444.0 2020-07-07 04:34:00  \n",
       "58300  2020-07-07 04:34:00     1269.0     1.0     1267.0 2020-07-07 04:34:00  \n",
       "58301  2020-07-07 04:34:00     1468.0    30.0      950.0 2020-07-07 04:34:00  \n",
       "\n",
       "[36230 rows x 8 columns]"
      ]
     },
     "execution_count": 252,
     "metadata": {},
     "output_type": "execute_result"
    }
   ],
   "source": [
    "df1.dropna(how='any')"
   ]
  },
  {
   "cell_type": "code",
   "execution_count": 274,
   "metadata": {},
   "outputs": [
    {
     "data": {
      "text/html": [
       "<div>\n",
       "<style scoped>\n",
       "    .dataframe tbody tr th:only-of-type {\n",
       "        vertical-align: middle;\n",
       "    }\n",
       "\n",
       "    .dataframe tbody tr th {\n",
       "        vertical-align: top;\n",
       "    }\n",
       "\n",
       "    .dataframe thead th {\n",
       "        text-align: right;\n",
       "    }\n",
       "</style>\n",
       "<table border=\"1\" class=\"dataframe\">\n",
       "  <thead>\n",
       "    <tr style=\"text-align: right;\">\n",
       "      <th></th>\n",
       "      <th>Confirmed</th>\n",
       "      <th>Deaths</th>\n",
       "      <th>Recovered</th>\n",
       "    </tr>\n",
       "    <tr>\n",
       "      <th>SNo</th>\n",
       "      <th></th>\n",
       "      <th></th>\n",
       "      <th></th>\n",
       "    </tr>\n",
       "  </thead>\n",
       "  <tbody>\n",
       "    <tr>\n",
       "      <th>1</th>\n",
       "      <td>1.0</td>\n",
       "      <td>0.0</td>\n",
       "      <td>0.0</td>\n",
       "    </tr>\n",
       "    <tr>\n",
       "      <th>2</th>\n",
       "      <td>15.0</td>\n",
       "      <td>0.0</td>\n",
       "      <td>0.0</td>\n",
       "    </tr>\n",
       "    <tr>\n",
       "      <th>3</th>\n",
       "      <td>21.0</td>\n",
       "      <td>0.0</td>\n",
       "      <td>0.0</td>\n",
       "    </tr>\n",
       "    <tr>\n",
       "      <th>4</th>\n",
       "      <td>22.0</td>\n",
       "      <td>0.0</td>\n",
       "      <td>0.0</td>\n",
       "    </tr>\n",
       "    <tr>\n",
       "      <th>5</th>\n",
       "      <td>22.0</td>\n",
       "      <td>0.0</td>\n",
       "      <td>0.0</td>\n",
       "    </tr>\n",
       "    <tr>\n",
       "      <th>...</th>\n",
       "      <td>...</td>\n",
       "      <td>...</td>\n",
       "      <td>...</td>\n",
       "    </tr>\n",
       "    <tr>\n",
       "      <th>58297</th>\n",
       "      <td>532312316.0</td>\n",
       "      <td>30629252.0</td>\n",
       "      <td>228119360.0</td>\n",
       "    </tr>\n",
       "    <tr>\n",
       "      <th>58298</th>\n",
       "      <td>532315691.0</td>\n",
       "      <td>30629363.0</td>\n",
       "      <td>228120361.0</td>\n",
       "    </tr>\n",
       "    <tr>\n",
       "      <th>58299</th>\n",
       "      <td>532316288.0</td>\n",
       "      <td>30629380.0</td>\n",
       "      <td>228120805.0</td>\n",
       "    </tr>\n",
       "    <tr>\n",
       "      <th>58300</th>\n",
       "      <td>532317557.0</td>\n",
       "      <td>30629381.0</td>\n",
       "      <td>228122072.0</td>\n",
       "    </tr>\n",
       "    <tr>\n",
       "      <th>58301</th>\n",
       "      <td>532319025.0</td>\n",
       "      <td>30629411.0</td>\n",
       "      <td>228123022.0</td>\n",
       "    </tr>\n",
       "  </tbody>\n",
       "</table>\n",
       "<p>58301 rows × 3 columns</p>\n",
       "</div>"
      ],
      "text/plain": [
       "         Confirmed      Deaths    Recovered\n",
       "SNo                                        \n",
       "1              1.0         0.0          0.0\n",
       "2             15.0         0.0          0.0\n",
       "3             21.0         0.0          0.0\n",
       "4             22.0         0.0          0.0\n",
       "5             22.0         0.0          0.0\n",
       "...            ...         ...          ...\n",
       "58297  532312316.0  30629252.0  228119360.0\n",
       "58298  532315691.0  30629363.0  228120361.0\n",
       "58299  532316288.0  30629380.0  228120805.0\n",
       "58300  532317557.0  30629381.0  228122072.0\n",
       "58301  532319025.0  30629411.0  228123022.0\n",
       "\n",
       "[58301 rows x 3 columns]"
      ]
     },
     "execution_count": 274,
     "metadata": {},
     "output_type": "execute_result"
    }
   ],
   "source": [
    "df1[['Confirmed','Deaths','Recovered']].apply(np.cumsum)"
   ]
  },
  {
   "cell_type": "code",
   "execution_count": 276,
   "metadata": {},
   "outputs": [
    {
     "data": {
      "text/plain": [
       "US                 7774\n",
       "Mainland China     5175\n",
       "Russia             3110\n",
       "Japan              2047\n",
       "Canada             1764\n",
       "                   ... \n",
       "North Ireland         1\n",
       "Channel Islands       1\n",
       "('St. Martin',)       1\n",
       "Cape Verde            1\n",
       " Azerbaijan           1\n",
       "Name: Country/Region, Length: 223, dtype: int64"
      ]
     },
     "execution_count": 276,
     "metadata": {},
     "output_type": "execute_result"
    }
   ],
   "source": [
    "df1['Country/Region'].value_counts()"
   ]
  },
  {
   "cell_type": "code",
   "execution_count": 277,
   "metadata": {},
   "outputs": [
    {
     "data": {
      "text/html": [
       "<div>\n",
       "<style scoped>\n",
       "    .dataframe tbody tr th:only-of-type {\n",
       "        vertical-align: middle;\n",
       "    }\n",
       "\n",
       "    .dataframe tbody tr th {\n",
       "        vertical-align: top;\n",
       "    }\n",
       "\n",
       "    .dataframe thead th {\n",
       "        text-align: right;\n",
       "    }\n",
       "</style>\n",
       "<table border=\"1\" class=\"dataframe\">\n",
       "  <thead>\n",
       "    <tr style=\"text-align: right;\">\n",
       "      <th></th>\n",
       "      <th>Confirmed</th>\n",
       "      <th>Deaths</th>\n",
       "    </tr>\n",
       "    <tr>\n",
       "      <th>Country/Region</th>\n",
       "      <th></th>\n",
       "      <th></th>\n",
       "    </tr>\n",
       "  </thead>\n",
       "  <tbody>\n",
       "    <tr>\n",
       "      <th>Azerbaijan</th>\n",
       "      <td>1.0</td>\n",
       "      <td>0.0</td>\n",
       "    </tr>\n",
       "    <tr>\n",
       "      <th>('St. Martin',)</th>\n",
       "      <td>2.0</td>\n",
       "      <td>0.0</td>\n",
       "    </tr>\n",
       "    <tr>\n",
       "      <th>Afghanistan</th>\n",
       "      <td>1199996.0</td>\n",
       "      <td>25778.0</td>\n",
       "    </tr>\n",
       "    <tr>\n",
       "      <th>Albania</th>\n",
       "      <td>114287.0</td>\n",
       "      <td>3450.0</td>\n",
       "    </tr>\n",
       "    <tr>\n",
       "      <th>Algeria</th>\n",
       "      <td>715382.0</td>\n",
       "      <td>55664.0</td>\n",
       "    </tr>\n",
       "    <tr>\n",
       "      <th>...</th>\n",
       "      <td>...</td>\n",
       "      <td>...</td>\n",
       "    </tr>\n",
       "    <tr>\n",
       "      <th>Western Sahara</th>\n",
       "      <td>691.0</td>\n",
       "      <td>42.0</td>\n",
       "    </tr>\n",
       "    <tr>\n",
       "      <th>Yemen</th>\n",
       "      <td>34858.0</td>\n",
       "      <td>8722.0</td>\n",
       "    </tr>\n",
       "    <tr>\n",
       "      <th>Zambia</th>\n",
       "      <td>70400.0</td>\n",
       "      <td>802.0</td>\n",
       "    </tr>\n",
       "    <tr>\n",
       "      <th>Zimbabwe</th>\n",
       "      <td>18633.0</td>\n",
       "      <td>407.0</td>\n",
       "    </tr>\n",
       "    <tr>\n",
       "      <th>occupied Palestinian territory</th>\n",
       "      <td>25.0</td>\n",
       "      <td>0.0</td>\n",
       "    </tr>\n",
       "  </tbody>\n",
       "</table>\n",
       "<p>223 rows × 2 columns</p>\n",
       "</div>"
      ],
      "text/plain": [
       "                                Confirmed   Deaths\n",
       "Country/Region                                    \n",
       " Azerbaijan                           1.0      0.0\n",
       "('St. Martin',)                       2.0      0.0\n",
       "Afghanistan                     1199996.0  25778.0\n",
       "Albania                          114287.0   3450.0\n",
       "Algeria                          715382.0  55664.0\n",
       "...                                   ...      ...\n",
       "Western Sahara                      691.0     42.0\n",
       "Yemen                             34858.0   8722.0\n",
       "Zambia                            70400.0    802.0\n",
       "Zimbabwe                          18633.0    407.0\n",
       "occupied Palestinian territory       25.0      0.0\n",
       "\n",
       "[223 rows x 2 columns]"
      ]
     },
     "execution_count": 277,
     "metadata": {},
     "output_type": "execute_result"
    }
   ],
   "source": [
    "df1[['Country/Region','Confirmed','Deaths']].groupby('Country/Region').sum()"
   ]
  },
  {
   "cell_type": "code",
   "execution_count": 311,
   "metadata": {},
   "outputs": [
    {
     "data": {
      "text/html": [
       "<div>\n",
       "<style scoped>\n",
       "    .dataframe tbody tr th:only-of-type {\n",
       "        vertical-align: middle;\n",
       "    }\n",
       "\n",
       "    .dataframe tbody tr th {\n",
       "        vertical-align: top;\n",
       "    }\n",
       "\n",
       "    .dataframe thead th {\n",
       "        text-align: right;\n",
       "    }\n",
       "</style>\n",
       "<table border=\"1\" class=\"dataframe\">\n",
       "  <thead>\n",
       "    <tr style=\"text-align: right;\">\n",
       "      <th></th>\n",
       "      <th>Confirmed</th>\n",
       "      <th>Deaths</th>\n",
       "    </tr>\n",
       "    <tr>\n",
       "      <th>Country/Region</th>\n",
       "      <th></th>\n",
       "      <th></th>\n",
       "    </tr>\n",
       "  </thead>\n",
       "  <tbody>\n",
       "    <tr>\n",
       "      <th>Yemen</th>\n",
       "      <td>34858.0</td>\n",
       "      <td>8722.0</td>\n",
       "    </tr>\n",
       "  </tbody>\n",
       "</table>\n",
       "</div>"
      ],
      "text/plain": [
       "                Confirmed  Deaths\n",
       "Country/Region                   \n",
       "Yemen             34858.0  8722.0"
      ]
     },
     "execution_count": 311,
     "metadata": {},
     "output_type": "execute_result"
    }
   ],
   "source": [
    "test = df1[['Country/Region','Confirmed','Deaths']].groupby('Country/Region').sum()\n",
    "test['Yemen':'Yemen'] \n",
    "## Is there any better way to do this to get data for only selected countries?"
   ]
  },
  {
   "cell_type": "code",
   "execution_count": 312,
   "metadata": {},
   "outputs": [
    {
     "data": {
      "text/plain": [
       "Confirmed    34858.0\n",
       "Deaths        8722.0\n",
       "Name: Yemen, dtype: float64"
      ]
     },
     "execution_count": 312,
     "metadata": {},
     "output_type": "execute_result"
    }
   ],
   "source": [
    "test.loc['Yemen']"
   ]
  },
  {
   "cell_type": "code",
   "execution_count": 304,
   "metadata": {},
   "outputs": [
    {
     "data": {
      "text/plain": [
       "ObservationDate       2020-05-31 00:00:00\n",
       "Province/State                        NaN\n",
       "Country/Region                     Russia\n",
       "Last Update           2020-06-01 02:32:46\n",
       "Confirmed                          405843\n",
       "Deaths                               4693\n",
       "Recovered                          171883\n",
       "Last Update Parsed    2020-06-01 02:32:46\n",
       "Name: 32121, dtype: object"
      ]
     },
     "execution_count": 304,
     "metadata": {},
     "output_type": "execute_result"
    }
   ],
   "source": [
    "df1.iloc[df1['Confirmed'].argmax(),:]"
   ]
  },
  {
   "cell_type": "code",
   "execution_count": 310,
   "metadata": {},
   "outputs": [
    {
     "data": {
      "text/plain": [
       "Index(['ObservationDate', 'Province/State', 'Country/Region', 'Confirmed',\n",
       "       'Deaths', 'Recovered', 'Last Update Parsed'],\n",
       "      dtype='object')"
      ]
     },
     "execution_count": 310,
     "metadata": {},
     "output_type": "execute_result"
    }
   ],
   "source": [
    "df1.drop('Last Update',axis=1,inplace=True)\n",
    "df1.columns"
   ]
  },
  {
   "cell_type": "code",
   "execution_count": 315,
   "metadata": {},
   "outputs": [
    {
     "data": {
      "text/html": [
       "<div>\n",
       "<style scoped>\n",
       "    .dataframe tbody tr th:only-of-type {\n",
       "        vertical-align: middle;\n",
       "    }\n",
       "\n",
       "    .dataframe tbody tr th {\n",
       "        vertical-align: top;\n",
       "    }\n",
       "\n",
       "    .dataframe thead th {\n",
       "        text-align: right;\n",
       "    }\n",
       "</style>\n",
       "<table border=\"1\" class=\"dataframe\">\n",
       "  <thead>\n",
       "    <tr style=\"text-align: right;\">\n",
       "      <th></th>\n",
       "      <th>ObservationDate</th>\n",
       "      <th>Province/State</th>\n",
       "      <th>Country/Region</th>\n",
       "      <th>Confirmed</th>\n",
       "      <th>Deaths</th>\n",
       "      <th>Recovered</th>\n",
       "      <th>Last Update Parsed</th>\n",
       "    </tr>\n",
       "    <tr>\n",
       "      <th>SNo</th>\n",
       "      <th></th>\n",
       "      <th></th>\n",
       "      <th></th>\n",
       "      <th></th>\n",
       "      <th></th>\n",
       "      <th></th>\n",
       "      <th></th>\n",
       "    </tr>\n",
       "  </thead>\n",
       "  <tbody>\n",
       "    <tr>\n",
       "      <th>1196</th>\n",
       "      <td>2020-02-11</td>\n",
       "      <td>Hubei</td>\n",
       "      <td>Mainland China</td>\n",
       "      <td>33366.0</td>\n",
       "      <td>1068.0</td>\n",
       "      <td>2639.0</td>\n",
       "      <td>2020-02-11 23:33:02</td>\n",
       "    </tr>\n",
       "    <tr>\n",
       "      <th>1269</th>\n",
       "      <td>2020-02-12</td>\n",
       "      <td>Hubei</td>\n",
       "      <td>Mainland China</td>\n",
       "      <td>33366.0</td>\n",
       "      <td>1068.0</td>\n",
       "      <td>2686.0</td>\n",
       "      <td>2020-02-12 14:13:08</td>\n",
       "    </tr>\n",
       "    <tr>\n",
       "      <th>1342</th>\n",
       "      <td>2020-02-13</td>\n",
       "      <td>Hubei</td>\n",
       "      <td>Mainland China</td>\n",
       "      <td>48206.0</td>\n",
       "      <td>1310.0</td>\n",
       "      <td>3459.0</td>\n",
       "      <td>2020-02-13 14:13:06</td>\n",
       "    </tr>\n",
       "    <tr>\n",
       "      <th>1416</th>\n",
       "      <td>2020-02-14</td>\n",
       "      <td>Hubei</td>\n",
       "      <td>Mainland China</td>\n",
       "      <td>54406.0</td>\n",
       "      <td>1457.0</td>\n",
       "      <td>4774.0</td>\n",
       "      <td>2020-02-14 23:33:02</td>\n",
       "    </tr>\n",
       "    <tr>\n",
       "      <th>1491</th>\n",
       "      <td>2020-02-15</td>\n",
       "      <td>Hubei</td>\n",
       "      <td>Mainland China</td>\n",
       "      <td>56249.0</td>\n",
       "      <td>1596.0</td>\n",
       "      <td>5623.0</td>\n",
       "      <td>2020-02-15 23:13:05</td>\n",
       "    </tr>\n",
       "    <tr>\n",
       "      <th>...</th>\n",
       "      <td>...</td>\n",
       "      <td>...</td>\n",
       "      <td>...</td>\n",
       "      <td>...</td>\n",
       "      <td>...</td>\n",
       "      <td>...</td>\n",
       "      <td>...</td>\n",
       "    </tr>\n",
       "    <tr>\n",
       "      <th>55011</th>\n",
       "      <td>2020-07-02</td>\n",
       "      <td>Hubei</td>\n",
       "      <td>Mainland China</td>\n",
       "      <td>68135.0</td>\n",
       "      <td>4512.0</td>\n",
       "      <td>63623.0</td>\n",
       "      <td>2020-07-03 04:33:54</td>\n",
       "    </tr>\n",
       "    <tr>\n",
       "      <th>55740</th>\n",
       "      <td>2020-07-03</td>\n",
       "      <td>Hubei</td>\n",
       "      <td>Mainland China</td>\n",
       "      <td>68135.0</td>\n",
       "      <td>4512.0</td>\n",
       "      <td>63623.0</td>\n",
       "      <td>2020-07-04 04:33:51</td>\n",
       "    </tr>\n",
       "    <tr>\n",
       "      <th>56469</th>\n",
       "      <td>2020-07-04</td>\n",
       "      <td>Hubei</td>\n",
       "      <td>Mainland China</td>\n",
       "      <td>68135.0</td>\n",
       "      <td>4512.0</td>\n",
       "      <td>63623.0</td>\n",
       "      <td>2020-07-05 04:33:46</td>\n",
       "    </tr>\n",
       "    <tr>\n",
       "      <th>57198</th>\n",
       "      <td>2020-07-05</td>\n",
       "      <td>Hubei</td>\n",
       "      <td>Mainland China</td>\n",
       "      <td>68135.0</td>\n",
       "      <td>4512.0</td>\n",
       "      <td>63623.0</td>\n",
       "      <td>2020-07-06 04:33:57</td>\n",
       "    </tr>\n",
       "    <tr>\n",
       "      <th>57927</th>\n",
       "      <td>2020-07-06</td>\n",
       "      <td>Hubei</td>\n",
       "      <td>Mainland China</td>\n",
       "      <td>68135.0</td>\n",
       "      <td>4512.0</td>\n",
       "      <td>63623.0</td>\n",
       "      <td>2020-07-07 04:34:00</td>\n",
       "    </tr>\n",
       "  </tbody>\n",
       "</table>\n",
       "<p>147 rows × 7 columns</p>\n",
       "</div>"
      ],
      "text/plain": [
       "      ObservationDate Province/State  Country/Region  Confirmed  Deaths  \\\n",
       "SNo                                                                       \n",
       "1196       2020-02-11          Hubei  Mainland China    33366.0  1068.0   \n",
       "1269       2020-02-12          Hubei  Mainland China    33366.0  1068.0   \n",
       "1342       2020-02-13          Hubei  Mainland China    48206.0  1310.0   \n",
       "1416       2020-02-14          Hubei  Mainland China    54406.0  1457.0   \n",
       "1491       2020-02-15          Hubei  Mainland China    56249.0  1596.0   \n",
       "...               ...            ...             ...        ...     ...   \n",
       "55011      2020-07-02          Hubei  Mainland China    68135.0  4512.0   \n",
       "55740      2020-07-03          Hubei  Mainland China    68135.0  4512.0   \n",
       "56469      2020-07-04          Hubei  Mainland China    68135.0  4512.0   \n",
       "57198      2020-07-05          Hubei  Mainland China    68135.0  4512.0   \n",
       "57927      2020-07-06          Hubei  Mainland China    68135.0  4512.0   \n",
       "\n",
       "       Recovered  Last Update Parsed  \n",
       "SNo                                   \n",
       "1196      2639.0 2020-02-11 23:33:02  \n",
       "1269      2686.0 2020-02-12 14:13:08  \n",
       "1342      3459.0 2020-02-13 14:13:06  \n",
       "1416      4774.0 2020-02-14 23:33:02  \n",
       "1491      5623.0 2020-02-15 23:13:05  \n",
       "...          ...                 ...  \n",
       "55011    63623.0 2020-07-03 04:33:54  \n",
       "55740    63623.0 2020-07-04 04:33:51  \n",
       "56469    63623.0 2020-07-05 04:33:46  \n",
       "57198    63623.0 2020-07-06 04:33:57  \n",
       "57927    63623.0 2020-07-07 04:34:00  \n",
       "\n",
       "[147 rows x 7 columns]"
      ]
     },
     "execution_count": 315,
     "metadata": {},
     "output_type": "execute_result"
    }
   ],
   "source": [
    "df1[(df1['Deaths']>1000) & (df1['Country/Region']=='Mainland China')]\n",
    "#So Deaths and other metrics are already cummulative figures and not daily values"
   ]
  },
  {
   "cell_type": "code",
   "execution_count": 320,
   "metadata": {},
   "outputs": [
    {
     "data": {
      "text/plain": [
       "array([nan, 'Blekinge', 'Dalarna', 'Gavleborg', 'Gotland', 'Halland',\n",
       "       'Jamtland Harjedalen', 'Jonkoping', 'Kalmar', 'Kronoberg',\n",
       "       'Norrbotten', 'Orebro', 'Ostergotland', 'Skane', 'Sormland',\n",
       "       'Stockholm', 'Uppsala', 'Varmland', 'Vasterbotten',\n",
       "       'Vasternorrland', 'Vastmanland', 'Vastra Gotaland'], dtype=object)"
      ]
     },
     "execution_count": 320,
     "metadata": {},
     "output_type": "execute_result"
    }
   ],
   "source": [
    "df1[df1['Country/Region']=='Sweden']['Province/State'].unique()\n",
    "#List of distinct provinces in country"
   ]
  },
  {
   "cell_type": "code",
   "execution_count": 330,
   "metadata": {},
   "outputs": [
    {
     "data": {
      "text/plain": [
       "False"
      ]
     },
     "execution_count": 330,
     "metadata": {},
     "output_type": "execute_result"
    }
   ],
   "source": [
    "test = np.array(['abc','def','asd'])\n",
    "'United' in test\n",
    "## Why does this not work? Idea is to iterate over each element of array and find substring in each element."
   ]
  },
  {
   "cell_type": "code",
   "execution_count": 331,
   "metadata": {},
   "outputs": [
    {
     "data": {
      "text/plain": [
       "Int64Index([    1,     2,     3,     4,     5,     6,     7,     8,     9,\n",
       "               10,\n",
       "            ...\n",
       "            58292, 58293, 58294, 58295, 58296, 58297, 58298, 58299, 58300,\n",
       "            58301],\n",
       "           dtype='int64', name='SNo', length=58301)"
      ]
     },
     "execution_count": 331,
     "metadata": {},
     "output_type": "execute_result"
    }
   ],
   "source": [
    "df1.index"
   ]
  },
  {
   "cell_type": "code",
   "execution_count": 347,
   "metadata": {},
   "outputs": [
    {
     "data": {
      "text/html": [
       "<div>\n",
       "<style scoped>\n",
       "    .dataframe tbody tr th:only-of-type {\n",
       "        vertical-align: middle;\n",
       "    }\n",
       "\n",
       "    .dataframe tbody tr th {\n",
       "        vertical-align: top;\n",
       "    }\n",
       "\n",
       "    .dataframe thead th {\n",
       "        text-align: right;\n",
       "    }\n",
       "</style>\n",
       "<table border=\"1\" class=\"dataframe\">\n",
       "  <thead>\n",
       "    <tr style=\"text-align: right;\">\n",
       "      <th></th>\n",
       "      <th>ObservationDate</th>\n",
       "      <th>Province/State</th>\n",
       "      <th>Country/Region</th>\n",
       "      <th>Confirmed</th>\n",
       "      <th>Deaths</th>\n",
       "      <th>Recovered</th>\n",
       "      <th>Last Update Parsed</th>\n",
       "    </tr>\n",
       "    <tr>\n",
       "      <th>SNo</th>\n",
       "      <th></th>\n",
       "      <th></th>\n",
       "      <th></th>\n",
       "      <th></th>\n",
       "      <th></th>\n",
       "      <th></th>\n",
       "      <th></th>\n",
       "    </tr>\n",
       "  </thead>\n",
       "  <tbody>\n",
       "    <tr>\n",
       "      <th>58074</th>\n",
       "      <td>2020-07-06</td>\n",
       "      <td>New York</td>\n",
       "      <td>US</td>\n",
       "      <td>397649.0</td>\n",
       "      <td>32219.0</td>\n",
       "      <td>0.0</td>\n",
       "      <td>2020-07-07 04:34:00</td>\n",
       "    </tr>\n",
       "    <tr>\n",
       "      <th>57345</th>\n",
       "      <td>2020-07-05</td>\n",
       "      <td>New York</td>\n",
       "      <td>US</td>\n",
       "      <td>397131.0</td>\n",
       "      <td>32206.0</td>\n",
       "      <td>0.0</td>\n",
       "      <td>2020-07-06 04:33:57</td>\n",
       "    </tr>\n",
       "    <tr>\n",
       "      <th>56616</th>\n",
       "      <td>2020-07-04</td>\n",
       "      <td>New York</td>\n",
       "      <td>US</td>\n",
       "      <td>396598.0</td>\n",
       "      <td>32157.0</td>\n",
       "      <td>0.0</td>\n",
       "      <td>2020-07-05 04:33:46</td>\n",
       "    </tr>\n",
       "    <tr>\n",
       "      <th>55887</th>\n",
       "      <td>2020-07-03</td>\n",
       "      <td>New York</td>\n",
       "      <td>US</td>\n",
       "      <td>395872.0</td>\n",
       "      <td>32137.0</td>\n",
       "      <td>0.0</td>\n",
       "      <td>2020-07-04 04:33:51</td>\n",
       "    </tr>\n",
       "    <tr>\n",
       "      <th>55158</th>\n",
       "      <td>2020-07-02</td>\n",
       "      <td>New York</td>\n",
       "      <td>US</td>\n",
       "      <td>394954.0</td>\n",
       "      <td>32064.0</td>\n",
       "      <td>0.0</td>\n",
       "      <td>2020-07-03 04:33:54</td>\n",
       "    </tr>\n",
       "  </tbody>\n",
       "</table>\n",
       "</div>"
      ],
      "text/plain": [
       "      ObservationDate Province/State Country/Region  Confirmed   Deaths  \\\n",
       "SNo                                                                       \n",
       "58074      2020-07-06       New York             US   397649.0  32219.0   \n",
       "57345      2020-07-05       New York             US   397131.0  32206.0   \n",
       "56616      2020-07-04       New York             US   396598.0  32157.0   \n",
       "55887      2020-07-03       New York             US   395872.0  32137.0   \n",
       "55158      2020-07-02       New York             US   394954.0  32064.0   \n",
       "\n",
       "       Recovered  Last Update Parsed  \n",
       "SNo                                   \n",
       "58074        0.0 2020-07-07 04:34:00  \n",
       "57345        0.0 2020-07-06 04:33:57  \n",
       "56616        0.0 2020-07-05 04:33:46  \n",
       "55887        0.0 2020-07-04 04:33:51  \n",
       "55158        0.0 2020-07-03 04:33:54  "
      ]
     },
     "execution_count": 347,
     "metadata": {},
     "output_type": "execute_result"
    }
   ],
   "source": [
    "df1.sort_values(by=['Recovered','Confirmed'], ascending=[True,False]).head()"
   ]
  },
  {
   "cell_type": "code",
   "execution_count": 354,
   "metadata": {},
   "outputs": [
    {
     "data": {
      "text/html": [
       "<div>\n",
       "<style scoped>\n",
       "    .dataframe tbody tr th:only-of-type {\n",
       "        vertical-align: middle;\n",
       "    }\n",
       "\n",
       "    .dataframe tbody tr th {\n",
       "        vertical-align: top;\n",
       "    }\n",
       "\n",
       "    .dataframe thead th {\n",
       "        text-align: right;\n",
       "    }\n",
       "</style>\n",
       "<table border=\"1\" class=\"dataframe\">\n",
       "  <thead>\n",
       "    <tr style=\"text-align: right;\">\n",
       "      <th></th>\n",
       "      <th>Deaths</th>\n",
       "    </tr>\n",
       "    <tr>\n",
       "      <th>Country/Region</th>\n",
       "      <th></th>\n",
       "    </tr>\n",
       "  </thead>\n",
       "  <tbody>\n",
       "    <tr>\n",
       "      <th>UK</th>\n",
       "      <td>41128.0</td>\n",
       "    </tr>\n",
       "    <tr>\n",
       "      <th>US</th>\n",
       "      <td>32219.0</td>\n",
       "    </tr>\n",
       "    <tr>\n",
       "      <th>Italy</th>\n",
       "      <td>31106.0</td>\n",
       "    </tr>\n",
       "    <tr>\n",
       "      <th>France</th>\n",
       "      <td>29836.0</td>\n",
       "    </tr>\n",
       "    <tr>\n",
       "      <th>Spain</th>\n",
       "      <td>27104.0</td>\n",
       "    </tr>\n",
       "    <tr>\n",
       "      <th>Brazil</th>\n",
       "      <td>17983.0</td>\n",
       "    </tr>\n",
       "    <tr>\n",
       "      <th>Iran</th>\n",
       "      <td>11731.0</td>\n",
       "    </tr>\n",
       "    <tr>\n",
       "      <th>Belgium</th>\n",
       "      <td>9774.0</td>\n",
       "    </tr>\n",
       "    <tr>\n",
       "      <th>India</th>\n",
       "      <td>9026.0</td>\n",
       "    </tr>\n",
       "    <tr>\n",
       "      <th>Germany</th>\n",
       "      <td>7861.0</td>\n",
       "    </tr>\n",
       "  </tbody>\n",
       "</table>\n",
       "</div>"
      ],
      "text/plain": [
       "                 Deaths\n",
       "Country/Region         \n",
       "UK              41128.0\n",
       "US              32219.0\n",
       "Italy           31106.0\n",
       "France          29836.0\n",
       "Spain           27104.0\n",
       "Brazil          17983.0\n",
       "Iran            11731.0\n",
       "Belgium          9774.0\n",
       "India            9026.0\n",
       "Germany          7861.0"
      ]
     },
     "execution_count": 354,
     "metadata": {},
     "output_type": "execute_result"
    }
   ],
   "source": [
    "df1[['Country/Region','Deaths']].groupby('Country/Region').max().sort_values(by='Deaths',ascending=False).head(10)\n",
    "#Can this operation be done on two columns: Deaths and Confirmed?"
   ]
  },
  {
   "cell_type": "code",
   "execution_count": 355,
   "metadata": {},
   "outputs": [
    {
     "data": {
      "text/html": [
       "<div>\n",
       "<style scoped>\n",
       "    .dataframe tbody tr th:only-of-type {\n",
       "        vertical-align: middle;\n",
       "    }\n",
       "\n",
       "    .dataframe tbody tr th {\n",
       "        vertical-align: top;\n",
       "    }\n",
       "\n",
       "    .dataframe thead tr th {\n",
       "        text-align: left;\n",
       "    }\n",
       "\n",
       "    .dataframe thead tr:last-of-type th {\n",
       "        text-align: right;\n",
       "    }\n",
       "</style>\n",
       "<table border=\"1\" class=\"dataframe\">\n",
       "  <thead>\n",
       "    <tr>\n",
       "      <th></th>\n",
       "      <th></th>\n",
       "      <th colspan=\"10\" halign=\"left\">Confirmed</th>\n",
       "      <th>...</th>\n",
       "      <th colspan=\"10\" halign=\"left\">Deaths</th>\n",
       "    </tr>\n",
       "    <tr>\n",
       "      <th></th>\n",
       "      <th>ObservationDate</th>\n",
       "      <th>2020-01-22</th>\n",
       "      <th>2020-01-23</th>\n",
       "      <th>2020-01-24</th>\n",
       "      <th>2020-01-25</th>\n",
       "      <th>2020-01-26</th>\n",
       "      <th>2020-01-27</th>\n",
       "      <th>2020-01-28</th>\n",
       "      <th>2020-01-29</th>\n",
       "      <th>2020-01-30</th>\n",
       "      <th>2020-01-31</th>\n",
       "      <th>...</th>\n",
       "      <th>2020-06-27</th>\n",
       "      <th>2020-06-28</th>\n",
       "      <th>2020-06-29</th>\n",
       "      <th>2020-06-30</th>\n",
       "      <th>2020-07-01</th>\n",
       "      <th>2020-07-02</th>\n",
       "      <th>2020-07-03</th>\n",
       "      <th>2020-07-04</th>\n",
       "      <th>2020-07-05</th>\n",
       "      <th>2020-07-06</th>\n",
       "    </tr>\n",
       "    <tr>\n",
       "      <th>Country/Region</th>\n",
       "      <th>Province/State</th>\n",
       "      <th></th>\n",
       "      <th></th>\n",
       "      <th></th>\n",
       "      <th></th>\n",
       "      <th></th>\n",
       "      <th></th>\n",
       "      <th></th>\n",
       "      <th></th>\n",
       "      <th></th>\n",
       "      <th></th>\n",
       "      <th></th>\n",
       "      <th></th>\n",
       "      <th></th>\n",
       "      <th></th>\n",
       "      <th></th>\n",
       "      <th></th>\n",
       "      <th></th>\n",
       "      <th></th>\n",
       "      <th></th>\n",
       "      <th></th>\n",
       "      <th></th>\n",
       "    </tr>\n",
       "  </thead>\n",
       "  <tbody>\n",
       "    <tr>\n",
       "      <th rowspan=\"5\" valign=\"top\">Australia</th>\n",
       "      <th>Australian Capital Territory</th>\n",
       "      <td>NaN</td>\n",
       "      <td>NaN</td>\n",
       "      <td>NaN</td>\n",
       "      <td>NaN</td>\n",
       "      <td>NaN</td>\n",
       "      <td>NaN</td>\n",
       "      <td>NaN</td>\n",
       "      <td>NaN</td>\n",
       "      <td>NaN</td>\n",
       "      <td>NaN</td>\n",
       "      <td>...</td>\n",
       "      <td>3.0</td>\n",
       "      <td>3.0</td>\n",
       "      <td>3.0</td>\n",
       "      <td>3.0</td>\n",
       "      <td>3.0</td>\n",
       "      <td>3.0</td>\n",
       "      <td>3.0</td>\n",
       "      <td>3.0</td>\n",
       "      <td>3.0</td>\n",
       "      <td>3.0</td>\n",
       "    </tr>\n",
       "    <tr>\n",
       "      <th>Diamond Princess cruise ship</th>\n",
       "      <td>NaN</td>\n",
       "      <td>NaN</td>\n",
       "      <td>NaN</td>\n",
       "      <td>NaN</td>\n",
       "      <td>NaN</td>\n",
       "      <td>NaN</td>\n",
       "      <td>NaN</td>\n",
       "      <td>NaN</td>\n",
       "      <td>NaN</td>\n",
       "      <td>NaN</td>\n",
       "      <td>...</td>\n",
       "      <td>NaN</td>\n",
       "      <td>NaN</td>\n",
       "      <td>NaN</td>\n",
       "      <td>NaN</td>\n",
       "      <td>NaN</td>\n",
       "      <td>NaN</td>\n",
       "      <td>NaN</td>\n",
       "      <td>NaN</td>\n",
       "      <td>NaN</td>\n",
       "      <td>NaN</td>\n",
       "    </tr>\n",
       "    <tr>\n",
       "      <th>External territories</th>\n",
       "      <td>NaN</td>\n",
       "      <td>NaN</td>\n",
       "      <td>NaN</td>\n",
       "      <td>NaN</td>\n",
       "      <td>NaN</td>\n",
       "      <td>NaN</td>\n",
       "      <td>NaN</td>\n",
       "      <td>NaN</td>\n",
       "      <td>NaN</td>\n",
       "      <td>NaN</td>\n",
       "      <td>...</td>\n",
       "      <td>NaN</td>\n",
       "      <td>NaN</td>\n",
       "      <td>NaN</td>\n",
       "      <td>NaN</td>\n",
       "      <td>NaN</td>\n",
       "      <td>NaN</td>\n",
       "      <td>NaN</td>\n",
       "      <td>NaN</td>\n",
       "      <td>NaN</td>\n",
       "      <td>NaN</td>\n",
       "    </tr>\n",
       "    <tr>\n",
       "      <th>From Diamond Princess</th>\n",
       "      <td>NaN</td>\n",
       "      <td>NaN</td>\n",
       "      <td>NaN</td>\n",
       "      <td>NaN</td>\n",
       "      <td>NaN</td>\n",
       "      <td>NaN</td>\n",
       "      <td>NaN</td>\n",
       "      <td>NaN</td>\n",
       "      <td>NaN</td>\n",
       "      <td>NaN</td>\n",
       "      <td>...</td>\n",
       "      <td>NaN</td>\n",
       "      <td>NaN</td>\n",
       "      <td>NaN</td>\n",
       "      <td>NaN</td>\n",
       "      <td>NaN</td>\n",
       "      <td>NaN</td>\n",
       "      <td>NaN</td>\n",
       "      <td>NaN</td>\n",
       "      <td>NaN</td>\n",
       "      <td>NaN</td>\n",
       "    </tr>\n",
       "    <tr>\n",
       "      <th>Jervis Bay Territory</th>\n",
       "      <td>NaN</td>\n",
       "      <td>NaN</td>\n",
       "      <td>NaN</td>\n",
       "      <td>NaN</td>\n",
       "      <td>NaN</td>\n",
       "      <td>NaN</td>\n",
       "      <td>NaN</td>\n",
       "      <td>NaN</td>\n",
       "      <td>NaN</td>\n",
       "      <td>NaN</td>\n",
       "      <td>...</td>\n",
       "      <td>NaN</td>\n",
       "      <td>NaN</td>\n",
       "      <td>NaN</td>\n",
       "      <td>NaN</td>\n",
       "      <td>NaN</td>\n",
       "      <td>NaN</td>\n",
       "      <td>NaN</td>\n",
       "      <td>NaN</td>\n",
       "      <td>NaN</td>\n",
       "      <td>NaN</td>\n",
       "    </tr>\n",
       "    <tr>\n",
       "      <th>...</th>\n",
       "      <th>...</th>\n",
       "      <td>...</td>\n",
       "      <td>...</td>\n",
       "      <td>...</td>\n",
       "      <td>...</td>\n",
       "      <td>...</td>\n",
       "      <td>...</td>\n",
       "      <td>...</td>\n",
       "      <td>...</td>\n",
       "      <td>...</td>\n",
       "      <td>...</td>\n",
       "      <td>...</td>\n",
       "      <td>...</td>\n",
       "      <td>...</td>\n",
       "      <td>...</td>\n",
       "      <td>...</td>\n",
       "      <td>...</td>\n",
       "      <td>...</td>\n",
       "      <td>...</td>\n",
       "      <td>...</td>\n",
       "      <td>...</td>\n",
       "      <td>...</td>\n",
       "    </tr>\n",
       "    <tr>\n",
       "      <th rowspan=\"5\" valign=\"top\">Ukraine</th>\n",
       "      <th>Vinnytsia Oblast</th>\n",
       "      <td>NaN</td>\n",
       "      <td>NaN</td>\n",
       "      <td>NaN</td>\n",
       "      <td>NaN</td>\n",
       "      <td>NaN</td>\n",
       "      <td>NaN</td>\n",
       "      <td>NaN</td>\n",
       "      <td>NaN</td>\n",
       "      <td>NaN</td>\n",
       "      <td>NaN</td>\n",
       "      <td>...</td>\n",
       "      <td>28.0</td>\n",
       "      <td>28.0</td>\n",
       "      <td>28.0</td>\n",
       "      <td>28.0</td>\n",
       "      <td>29.0</td>\n",
       "      <td>30.0</td>\n",
       "      <td>30.0</td>\n",
       "      <td>30.0</td>\n",
       "      <td>30.0</td>\n",
       "      <td>30.0</td>\n",
       "    </tr>\n",
       "    <tr>\n",
       "      <th>Volyn Oblast</th>\n",
       "      <td>NaN</td>\n",
       "      <td>NaN</td>\n",
       "      <td>NaN</td>\n",
       "      <td>NaN</td>\n",
       "      <td>NaN</td>\n",
       "      <td>NaN</td>\n",
       "      <td>NaN</td>\n",
       "      <td>NaN</td>\n",
       "      <td>NaN</td>\n",
       "      <td>NaN</td>\n",
       "      <td>...</td>\n",
       "      <td>60.0</td>\n",
       "      <td>60.0</td>\n",
       "      <td>60.0</td>\n",
       "      <td>60.0</td>\n",
       "      <td>62.0</td>\n",
       "      <td>62.0</td>\n",
       "      <td>63.0</td>\n",
       "      <td>67.0</td>\n",
       "      <td>68.0</td>\n",
       "      <td>69.0</td>\n",
       "    </tr>\n",
       "    <tr>\n",
       "      <th>Zakarpattia Oblast</th>\n",
       "      <td>NaN</td>\n",
       "      <td>NaN</td>\n",
       "      <td>NaN</td>\n",
       "      <td>NaN</td>\n",
       "      <td>NaN</td>\n",
       "      <td>NaN</td>\n",
       "      <td>NaN</td>\n",
       "      <td>NaN</td>\n",
       "      <td>NaN</td>\n",
       "      <td>NaN</td>\n",
       "      <td>...</td>\n",
       "      <td>82.0</td>\n",
       "      <td>84.0</td>\n",
       "      <td>87.0</td>\n",
       "      <td>91.0</td>\n",
       "      <td>95.0</td>\n",
       "      <td>97.0</td>\n",
       "      <td>102.0</td>\n",
       "      <td>102.0</td>\n",
       "      <td>108.0</td>\n",
       "      <td>111.0</td>\n",
       "    </tr>\n",
       "    <tr>\n",
       "      <th>Zaporizhia Oblast</th>\n",
       "      <td>NaN</td>\n",
       "      <td>NaN</td>\n",
       "      <td>NaN</td>\n",
       "      <td>NaN</td>\n",
       "      <td>NaN</td>\n",
       "      <td>NaN</td>\n",
       "      <td>NaN</td>\n",
       "      <td>NaN</td>\n",
       "      <td>NaN</td>\n",
       "      <td>NaN</td>\n",
       "      <td>...</td>\n",
       "      <td>17.0</td>\n",
       "      <td>17.0</td>\n",
       "      <td>17.0</td>\n",
       "      <td>17.0</td>\n",
       "      <td>17.0</td>\n",
       "      <td>17.0</td>\n",
       "      <td>17.0</td>\n",
       "      <td>17.0</td>\n",
       "      <td>17.0</td>\n",
       "      <td>17.0</td>\n",
       "    </tr>\n",
       "    <tr>\n",
       "      <th>Zhytomyr Oblast</th>\n",
       "      <td>NaN</td>\n",
       "      <td>NaN</td>\n",
       "      <td>NaN</td>\n",
       "      <td>NaN</td>\n",
       "      <td>NaN</td>\n",
       "      <td>NaN</td>\n",
       "      <td>NaN</td>\n",
       "      <td>NaN</td>\n",
       "      <td>NaN</td>\n",
       "      <td>NaN</td>\n",
       "      <td>...</td>\n",
       "      <td>27.0</td>\n",
       "      <td>29.0</td>\n",
       "      <td>29.0</td>\n",
       "      <td>29.0</td>\n",
       "      <td>29.0</td>\n",
       "      <td>30.0</td>\n",
       "      <td>30.0</td>\n",
       "      <td>30.0</td>\n",
       "      <td>30.0</td>\n",
       "      <td>30.0</td>\n",
       "    </tr>\n",
       "  </tbody>\n",
       "</table>\n",
       "<p>728 rows × 334 columns</p>\n",
       "</div>"
      ],
      "text/plain": [
       "                                             Confirmed                        \\\n",
       "ObservationDate                             2020-01-22 2020-01-23 2020-01-24   \n",
       "Country/Region Province/State                                                  \n",
       "Australia      Australian Capital Territory        NaN        NaN        NaN   \n",
       "               Diamond Princess cruise ship        NaN        NaN        NaN   \n",
       "               External territories                NaN        NaN        NaN   \n",
       "               From Diamond Princess               NaN        NaN        NaN   \n",
       "               Jervis Bay Territory                NaN        NaN        NaN   \n",
       "...                                                ...        ...        ...   \n",
       "Ukraine        Vinnytsia Oblast                    NaN        NaN        NaN   \n",
       "               Volyn Oblast                        NaN        NaN        NaN   \n",
       "               Zakarpattia Oblast                  NaN        NaN        NaN   \n",
       "               Zaporizhia Oblast                   NaN        NaN        NaN   \n",
       "               Zhytomyr Oblast                     NaN        NaN        NaN   \n",
       "\n",
       "                                                                              \\\n",
       "ObservationDate                             2020-01-25 2020-01-26 2020-01-27   \n",
       "Country/Region Province/State                                                  \n",
       "Australia      Australian Capital Territory        NaN        NaN        NaN   \n",
       "               Diamond Princess cruise ship        NaN        NaN        NaN   \n",
       "               External territories                NaN        NaN        NaN   \n",
       "               From Diamond Princess               NaN        NaN        NaN   \n",
       "               Jervis Bay Territory                NaN        NaN        NaN   \n",
       "...                                                ...        ...        ...   \n",
       "Ukraine        Vinnytsia Oblast                    NaN        NaN        NaN   \n",
       "               Volyn Oblast                        NaN        NaN        NaN   \n",
       "               Zakarpattia Oblast                  NaN        NaN        NaN   \n",
       "               Zaporizhia Oblast                   NaN        NaN        NaN   \n",
       "               Zhytomyr Oblast                     NaN        NaN        NaN   \n",
       "\n",
       "                                                                              \\\n",
       "ObservationDate                             2020-01-28 2020-01-29 2020-01-30   \n",
       "Country/Region Province/State                                                  \n",
       "Australia      Australian Capital Territory        NaN        NaN        NaN   \n",
       "               Diamond Princess cruise ship        NaN        NaN        NaN   \n",
       "               External territories                NaN        NaN        NaN   \n",
       "               From Diamond Princess               NaN        NaN        NaN   \n",
       "               Jervis Bay Territory                NaN        NaN        NaN   \n",
       "...                                                ...        ...        ...   \n",
       "Ukraine        Vinnytsia Oblast                    NaN        NaN        NaN   \n",
       "               Volyn Oblast                        NaN        NaN        NaN   \n",
       "               Zakarpattia Oblast                  NaN        NaN        NaN   \n",
       "               Zaporizhia Oblast                   NaN        NaN        NaN   \n",
       "               Zhytomyr Oblast                     NaN        NaN        NaN   \n",
       "\n",
       "                                                        ...     Deaths  \\\n",
       "ObservationDate                             2020-01-31  ... 2020-06-27   \n",
       "Country/Region Province/State                           ...              \n",
       "Australia      Australian Capital Territory        NaN  ...        3.0   \n",
       "               Diamond Princess cruise ship        NaN  ...        NaN   \n",
       "               External territories                NaN  ...        NaN   \n",
       "               From Diamond Princess               NaN  ...        NaN   \n",
       "               Jervis Bay Territory                NaN  ...        NaN   \n",
       "...                                                ...  ...        ...   \n",
       "Ukraine        Vinnytsia Oblast                    NaN  ...       28.0   \n",
       "               Volyn Oblast                        NaN  ...       60.0   \n",
       "               Zakarpattia Oblast                  NaN  ...       82.0   \n",
       "               Zaporizhia Oblast                   NaN  ...       17.0   \n",
       "               Zhytomyr Oblast                     NaN  ...       27.0   \n",
       "\n",
       "                                                                              \\\n",
       "ObservationDate                             2020-06-28 2020-06-29 2020-06-30   \n",
       "Country/Region Province/State                                                  \n",
       "Australia      Australian Capital Territory        3.0        3.0        3.0   \n",
       "               Diamond Princess cruise ship        NaN        NaN        NaN   \n",
       "               External territories                NaN        NaN        NaN   \n",
       "               From Diamond Princess               NaN        NaN        NaN   \n",
       "               Jervis Bay Territory                NaN        NaN        NaN   \n",
       "...                                                ...        ...        ...   \n",
       "Ukraine        Vinnytsia Oblast                   28.0       28.0       28.0   \n",
       "               Volyn Oblast                       60.0       60.0       60.0   \n",
       "               Zakarpattia Oblast                 84.0       87.0       91.0   \n",
       "               Zaporizhia Oblast                  17.0       17.0       17.0   \n",
       "               Zhytomyr Oblast                    29.0       29.0       29.0   \n",
       "\n",
       "                                                                              \\\n",
       "ObservationDate                             2020-07-01 2020-07-02 2020-07-03   \n",
       "Country/Region Province/State                                                  \n",
       "Australia      Australian Capital Territory        3.0        3.0        3.0   \n",
       "               Diamond Princess cruise ship        NaN        NaN        NaN   \n",
       "               External territories                NaN        NaN        NaN   \n",
       "               From Diamond Princess               NaN        NaN        NaN   \n",
       "               Jervis Bay Territory                NaN        NaN        NaN   \n",
       "...                                                ...        ...        ...   \n",
       "Ukraine        Vinnytsia Oblast                   29.0       30.0       30.0   \n",
       "               Volyn Oblast                       62.0       62.0       63.0   \n",
       "               Zakarpattia Oblast                 95.0       97.0      102.0   \n",
       "               Zaporizhia Oblast                  17.0       17.0       17.0   \n",
       "               Zhytomyr Oblast                    29.0       30.0       30.0   \n",
       "\n",
       "                                                                              \n",
       "ObservationDate                             2020-07-04 2020-07-05 2020-07-06  \n",
       "Country/Region Province/State                                                 \n",
       "Australia      Australian Capital Territory        3.0        3.0        3.0  \n",
       "               Diamond Princess cruise ship        NaN        NaN        NaN  \n",
       "               External territories                NaN        NaN        NaN  \n",
       "               From Diamond Princess               NaN        NaN        NaN  \n",
       "               Jervis Bay Territory                NaN        NaN        NaN  \n",
       "...                                                ...        ...        ...  \n",
       "Ukraine        Vinnytsia Oblast                   30.0       30.0       30.0  \n",
       "               Volyn Oblast                       67.0       68.0       69.0  \n",
       "               Zakarpattia Oblast                102.0      108.0      111.0  \n",
       "               Zaporizhia Oblast                  17.0       17.0       17.0  \n",
       "               Zhytomyr Oblast                    30.0       30.0       30.0  \n",
       "\n",
       "[728 rows x 334 columns]"
      ]
     },
     "execution_count": 355,
     "metadata": {},
     "output_type": "execute_result"
    }
   ],
   "source": [
    "df1.pivot_table(values = ['Deaths','Confirmed'], index=['Country/Region','Province/State'], columns='ObservationDate')"
   ]
  },
  {
   "cell_type": "code",
   "execution_count": 356,
   "metadata": {},
   "outputs": [],
   "source": [
    "online_df = pd.read_html('http://www.fdic.gov/bank/individual/failed/banklist.html')"
   ]
  },
  {
   "cell_type": "code",
   "execution_count": 366,
   "metadata": {},
   "outputs": [
    {
     "data": {
      "text/plain": [
       "list"
      ]
     },
     "execution_count": 366,
     "metadata": {},
     "output_type": "execute_result"
    }
   ],
   "source": [
    "type(online_df)"
   ]
  },
  {
   "cell_type": "code",
   "execution_count": 369,
   "metadata": {},
   "outputs": [
    {
     "data": {
      "text/plain": [
       "1"
      ]
     },
     "execution_count": 369,
     "metadata": {},
     "output_type": "execute_result"
    }
   ],
   "source": [
    "len(online_df)"
   ]
  },
  {
   "cell_type": "code",
   "execution_count": 370,
   "metadata": {},
   "outputs": [
    {
     "data": {
      "text/html": [
       "<div>\n",
       "<style scoped>\n",
       "    .dataframe tbody tr th:only-of-type {\n",
       "        vertical-align: middle;\n",
       "    }\n",
       "\n",
       "    .dataframe tbody tr th {\n",
       "        vertical-align: top;\n",
       "    }\n",
       "\n",
       "    .dataframe thead th {\n",
       "        text-align: right;\n",
       "    }\n",
       "</style>\n",
       "<table border=\"1\" class=\"dataframe\">\n",
       "  <thead>\n",
       "    <tr style=\"text-align: right;\">\n",
       "      <th></th>\n",
       "      <th>Bank Name</th>\n",
       "      <th>City</th>\n",
       "      <th>ST</th>\n",
       "      <th>CERT</th>\n",
       "      <th>Acquiring Institution</th>\n",
       "      <th>Closing Date</th>\n",
       "    </tr>\n",
       "  </thead>\n",
       "  <tbody>\n",
       "    <tr>\n",
       "      <th>0</th>\n",
       "      <td>The First State Bank</td>\n",
       "      <td>Barboursville</td>\n",
       "      <td>WV</td>\n",
       "      <td>14361</td>\n",
       "      <td>MVB Bank, Inc.</td>\n",
       "      <td>April 3, 2020</td>\n",
       "    </tr>\n",
       "    <tr>\n",
       "      <th>1</th>\n",
       "      <td>Ericson State Bank</td>\n",
       "      <td>Ericson</td>\n",
       "      <td>NE</td>\n",
       "      <td>18265</td>\n",
       "      <td>Farmers and Merchants Bank</td>\n",
       "      <td>February 14, 2020</td>\n",
       "    </tr>\n",
       "    <tr>\n",
       "      <th>2</th>\n",
       "      <td>City National Bank of New Jersey</td>\n",
       "      <td>Newark</td>\n",
       "      <td>NJ</td>\n",
       "      <td>21111</td>\n",
       "      <td>Industrial Bank</td>\n",
       "      <td>November 1, 2019</td>\n",
       "    </tr>\n",
       "    <tr>\n",
       "      <th>3</th>\n",
       "      <td>Resolute Bank</td>\n",
       "      <td>Maumee</td>\n",
       "      <td>OH</td>\n",
       "      <td>58317</td>\n",
       "      <td>Buckeye State Bank</td>\n",
       "      <td>October 25, 2019</td>\n",
       "    </tr>\n",
       "    <tr>\n",
       "      <th>4</th>\n",
       "      <td>Louisa Community Bank</td>\n",
       "      <td>Louisa</td>\n",
       "      <td>KY</td>\n",
       "      <td>58112</td>\n",
       "      <td>Kentucky Farmers Bank Corporation</td>\n",
       "      <td>October 25, 2019</td>\n",
       "    </tr>\n",
       "    <tr>\n",
       "      <th>...</th>\n",
       "      <td>...</td>\n",
       "      <td>...</td>\n",
       "      <td>...</td>\n",
       "      <td>...</td>\n",
       "      <td>...</td>\n",
       "      <td>...</td>\n",
       "    </tr>\n",
       "    <tr>\n",
       "      <th>556</th>\n",
       "      <td>Superior Bank, FSB</td>\n",
       "      <td>Hinsdale</td>\n",
       "      <td>IL</td>\n",
       "      <td>32646</td>\n",
       "      <td>Superior Federal, FSB</td>\n",
       "      <td>July 27, 2001</td>\n",
       "    </tr>\n",
       "    <tr>\n",
       "      <th>557</th>\n",
       "      <td>Malta National Bank</td>\n",
       "      <td>Malta</td>\n",
       "      <td>OH</td>\n",
       "      <td>6629</td>\n",
       "      <td>North Valley Bank</td>\n",
       "      <td>May 3, 2001</td>\n",
       "    </tr>\n",
       "    <tr>\n",
       "      <th>558</th>\n",
       "      <td>First Alliance Bank &amp; Trust Co.</td>\n",
       "      <td>Manchester</td>\n",
       "      <td>NH</td>\n",
       "      <td>34264</td>\n",
       "      <td>Southern New Hampshire Bank &amp; Trust</td>\n",
       "      <td>February 2, 2001</td>\n",
       "    </tr>\n",
       "    <tr>\n",
       "      <th>559</th>\n",
       "      <td>National State Bank of Metropolis</td>\n",
       "      <td>Metropolis</td>\n",
       "      <td>IL</td>\n",
       "      <td>3815</td>\n",
       "      <td>Banterra Bank of Marion</td>\n",
       "      <td>December 14, 2000</td>\n",
       "    </tr>\n",
       "    <tr>\n",
       "      <th>560</th>\n",
       "      <td>Bank of Honolulu</td>\n",
       "      <td>Honolulu</td>\n",
       "      <td>HI</td>\n",
       "      <td>21029</td>\n",
       "      <td>Bank of the Orient</td>\n",
       "      <td>October 13, 2000</td>\n",
       "    </tr>\n",
       "  </tbody>\n",
       "</table>\n",
       "<p>561 rows × 6 columns</p>\n",
       "</div>"
      ],
      "text/plain": [
       "                             Bank Name           City  ST   CERT  \\\n",
       "0                 The First State Bank  Barboursville  WV  14361   \n",
       "1                   Ericson State Bank        Ericson  NE  18265   \n",
       "2     City National Bank of New Jersey         Newark  NJ  21111   \n",
       "3                        Resolute Bank         Maumee  OH  58317   \n",
       "4                Louisa Community Bank         Louisa  KY  58112   \n",
       "..                                 ...            ...  ..    ...   \n",
       "556                 Superior Bank, FSB       Hinsdale  IL  32646   \n",
       "557                Malta National Bank          Malta  OH   6629   \n",
       "558    First Alliance Bank & Trust Co.     Manchester  NH  34264   \n",
       "559  National State Bank of Metropolis     Metropolis  IL   3815   \n",
       "560                   Bank of Honolulu       Honolulu  HI  21029   \n",
       "\n",
       "                   Acquiring Institution       Closing Date  \n",
       "0                         MVB Bank, Inc.      April 3, 2020  \n",
       "1             Farmers and Merchants Bank  February 14, 2020  \n",
       "2                        Industrial Bank   November 1, 2019  \n",
       "3                     Buckeye State Bank   October 25, 2019  \n",
       "4      Kentucky Farmers Bank Corporation   October 25, 2019  \n",
       "..                                   ...                ...  \n",
       "556                Superior Federal, FSB      July 27, 2001  \n",
       "557                    North Valley Bank        May 3, 2001  \n",
       "558  Southern New Hampshire Bank & Trust   February 2, 2001  \n",
       "559              Banterra Bank of Marion  December 14, 2000  \n",
       "560                   Bank of the Orient   October 13, 2000  \n",
       "\n",
       "[561 rows x 6 columns]"
      ]
     },
     "execution_count": 370,
     "metadata": {},
     "output_type": "execute_result"
    }
   ],
   "source": [
    "online_df[0]"
   ]
  },
  {
   "cell_type": "code",
   "execution_count": 371,
   "metadata": {},
   "outputs": [
    {
     "data": {
      "text/plain": [
       "pandas.core.frame.DataFrame"
      ]
     },
     "execution_count": 371,
     "metadata": {},
     "output_type": "execute_result"
    }
   ],
   "source": [
    "type(online_df[0])"
   ]
  },
  {
   "cell_type": "code",
   "execution_count": 372,
   "metadata": {},
   "outputs": [
    {
     "data": {
      "text/plain": [
       "[<matplotlib.lines.Line2D at 0x7fef558f2ed0>]"
      ]
     },
     "execution_count": 372,
     "metadata": {},
     "output_type": "execute_result"
    },
    {
     "data": {
      "image/png": "[encoded data removed]",
      "text/plain": [
       "<Figure size 432x288 with 1 Axes>"
      ]
     },
     "metadata": {
      "needs_background": "light"
     },
     "output_type": "display_data"
    }
   ],
   "source": [
    "plt.plot(df1['Deaths'], df1['Confirmed'])"
   ]
  },
  {
   "cell_type": "code",
   "execution_count": 375,
   "metadata": {},
   "outputs": [],
   "source": [
    "df1_US = df1[df1['Country/Region']=='US']"
   ]
  },
  {
   "cell_type": "code",
   "execution_count": 381,
   "metadata": {},
   "outputs": [
    {
     "data": {
      "text/plain": [
       "[<matplotlib.lines.Line2D at 0x7fef5548ba50>]"
      ]
     },
     "execution_count": 381,
     "metadata": {},
     "output_type": "execute_result"
    },
    {
     "data": {
      "image/png": "[encoded data removed]",
      "text/plain": [
       "<Figure size 432x288 with 1 Axes>"
      ]
     },
     "metadata": {
      "needs_background": "light"
     },
     "output_type": "display_data"
    }
   ],
   "source": [
    "plt.plot(df1_US['ObservationDate'],df1_US['Confirmed'],'b')\n",
    "plt.plot(df1_US['ObservationDate'],df1_US['Deaths'],'r')\n",
    "#Some graphs are meaningless as there is data for several US states, not just one state"
   ]
  },
  {
   "cell_type": "code",
   "execution_count": 384,
   "metadata": {},
   "outputs": [
    {
     "data": {
      "text/plain": [
       "[<matplotlib.lines.Line2D at 0x7fef5532f550>]"
      ]
     },
     "execution_count": 384,
     "metadata": {},
     "output_type": "execute_result"
    },
    {
     "data": {
      "image/png": "[encoded data removed]",
      "text/plain": [
       "<Figure size 432x288 with 1 Axes>"
      ]
     },
     "metadata": {
      "needs_background": "light"
     },
     "output_type": "display_data"
    }
   ],
   "source": [
    "fig = plt.figure()\n",
    "axes = fig.add_axes([0.1,0.1,0.8,0.8])\n",
    "axes.plot(df1_US['ObservationDate'],df1_US['Confirmed'],'b')"
   ]
  },
  {
   "cell_type": "code",
   "execution_count": 387,
   "metadata": {},
   "outputs": [
    {
     "data": {
      "text/plain": [
       "array(['Washington', 'Chicago', 'Illinois', 'California', 'Arizona',\n",
       "       'Chicago, IL', 'Boston, MA', 'Los Angeles, CA', 'Orange, CA',\n",
       "       'Santa Clara, CA', 'Seattle, WA', 'Tempe, AZ', 'San Benito, CA',\n",
       "       'Madison, WI', 'San Diego County, CA', 'San Antonio, TX',\n",
       "       'Ashland, NE', 'Travis, CA', 'Lackland, TX', 'Humboldt County, CA',\n",
       "       'Sacramento County, CA', 'Omaha, NE (From Diamond Princess)',\n",
       "       'Travis, CA (From Diamond Princess)',\n",
       "       'Lackland, TX (From Diamond Princess)',\n",
       "       'Unassigned Location (From Diamond Princess)', 'Portland, OR',\n",
       "       'Snohomish County, WA', 'Providence, RI', 'King County, WA',\n",
       "       'Cook County, IL', 'Grafton County, NH', 'Hillsborough, FL',\n",
       "       'New York City, NY', 'Placer County, CA', 'San Mateo, CA',\n",
       "       'Sarasota, FL', 'Sonoma County, CA', 'Umatilla, OR',\n",
       "       'Fulton County, GA', 'Washington County, OR',\n",
       "       ' Norfolk County, MA', 'Berkeley, CA', 'Maricopa County, AZ',\n",
       "       'Wake County, NC', 'Westchester County, NY', 'Orange County, CA',\n",
       "       'Contra Costa County, CA', 'Bergen County, NJ',\n",
       "       'Harris County, TX', 'San Francisco County, CA',\n",
       "       'Clark County, NV', 'Fort Bend County, TX', 'Grant County, WA',\n",
       "       'Queens County, NY', 'Santa Rosa County, FL',\n",
       "       'Williamson County, TN', 'New York County, NY',\n",
       "       'Unassigned Location, WA', 'Montgomery County, MD',\n",
       "       'Suffolk County, MA', 'Denver County, CO', 'Summit County, CO',\n",
       "       'Chatham County, NC', 'Delaware County, PA', 'Douglas County, NE',\n",
       "       'Fayette County, KY', 'Floyd County, GA', 'Marion County, IN',\n",
       "       'Middlesex County, MA', 'Nassau County, NY', 'Norwell County, MA',\n",
       "       'Ramsey County, MN', 'Washoe County, NV', 'Wayne County, PA',\n",
       "       'Yolo County, CA', 'Santa Clara County, CA',\n",
       "       'Grand Princess Cruise Ship', 'Douglas County, CO',\n",
       "       'Providence County, RI', 'Alameda County, CA',\n",
       "       'Broward County, FL', 'Fairfield County, CT', 'Lee County, FL',\n",
       "       'Pinal County, AZ', 'Rockland County, NY', 'Saratoga County, NY',\n",
       "       'Charleston County, SC', 'Clark County, WA', 'Cobb County, GA',\n",
       "       'Davis County, UT', 'El Paso County, CO', 'Honolulu County, HI',\n",
       "       'Jackson County, OR ', 'Jefferson County, WA',\n",
       "       'Kershaw County, SC', 'Klamath County, OR', 'Madera County, CA',\n",
       "       'Pierce County, WA', 'Plymouth County, MA',\n",
       "       'Santa Cruz County, CA', 'Tulsa County, OK',\n",
       "       'Montgomery County, TX', 'Norfolk County, MA',\n",
       "       'Montgomery County, PA', 'Fairfax County, VA',\n",
       "       'Rockingham County, NH', 'Washington, D.C.',\n",
       "       'Berkshire County, MA', 'Davidson County, TN',\n",
       "       'Douglas County, OR', 'Fresno County, CA', 'Harford County, MD',\n",
       "       'Hendricks County, IN', 'Hudson County, NJ', 'Johnson County, KS',\n",
       "       'Kittitas County, WA', 'Manatee County, FL', 'Marion County, OR',\n",
       "       'Okaloosa County, FL', 'Polk County, GA', 'Riverside County, CA',\n",
       "       'Shelby County, TN', 'Spokane County, WA', 'St. Louis County, MO',\n",
       "       'Suffolk County, NY', 'Ulster County, NY',\n",
       "       'Unassigned Location, VT', 'Unknown Location, MA',\n",
       "       'Volusia County, FL', 'Johnson County, IA', 'Harrison County, KY',\n",
       "       'Bennington County, VT', 'Carver County, MN',\n",
       "       'Charlotte County, FL', 'Cherokee County, GA', 'Collin County, TX',\n",
       "       'Jefferson County, KY', 'Jefferson Parish, LA',\n",
       "       'Shasta County, CA', 'Spartanburg County, SC', 'New York',\n",
       "       'Massachusetts', 'Diamond Princess cruise ship', 'Grand Princess',\n",
       "       'Georgia', 'Colorado', 'Florida', 'New Jersey', 'Oregon', 'Texas',\n",
       "       'Pennsylvania', 'Iowa', 'Maryland', 'North Carolina',\n",
       "       'South Carolina', 'Tennessee', 'Virginia', 'Indiana', 'Kentucky',\n",
       "       'District of Columbia', 'Nevada', 'New Hampshire', 'Minnesota',\n",
       "       'Nebraska', 'Ohio', 'Rhode Island', 'Wisconsin', 'Connecticut',\n",
       "       'Hawaii', 'Oklahoma', 'Utah', 'Kansas', 'Louisiana', 'Missouri',\n",
       "       'Vermont', 'Alaska', 'Arkansas', 'Delaware', 'Idaho', 'Maine',\n",
       "       'Michigan', 'Mississippi', 'Montana', 'New Mexico', 'North Dakota',\n",
       "       'South Dakota', 'West Virginia', 'Wyoming', 'Alabama',\n",
       "       'Puerto Rico', 'Virgin Islands, U.S.', 'Guam', 'Virgin Islands',\n",
       "       'United States Virgin Islands', 'US', 'American Samoa',\n",
       "       'Northern Mariana Islands', 'Wuhan Evacuee', 'Recovered'],\n",
       "      dtype=object)"
      ]
     },
     "execution_count": 387,
     "metadata": {},
     "output_type": "execute_result"
    }
   ],
   "source": [
    "df1_US['Province/State'].unique()"
   ]
  },
  {
   "cell_type": "code",
   "execution_count": 391,
   "metadata": {},
   "outputs": [
    {
     "data": {
      "text/plain": [
       "<matplotlib.collections.PathCollection at 0x7fef53561750>"
      ]
     },
     "execution_count": 391,
     "metadata": {},
     "output_type": "execute_result"
    },
    {
     "data": {
      "image/png": "[encoded data removed]",
      "text/plain": [
       "<Figure size 432x288 with 1 Axes>"
      ]
     },
     "metadata": {
      "needs_background": "light"
     },
     "output_type": "display_data"
    }
   ],
   "source": [
    "plt.scatter(df1_US['ObservationDate'],df1_US['Recovered'])"
   ]
  },
  {
   "cell_type": "code",
   "execution_count": 401,
   "metadata": {},
   "outputs": [
    {
     "data": {
      "image/png": "[encoded data removed]",
      "text/plain": [
       "<Figure size 432x288 with 1 Axes>"
      ]
     },
     "metadata": {
      "needs_background": "light"
     },
     "output_type": "display_data"
    }
   ],
   "source": [
    "fig, axes = plt.subplots()"
   ]
  },
  {
   "cell_type": "code",
   "execution_count": 409,
   "metadata": {},
   "outputs": [
    {
     "data": {
      "text/plain": [
       "[<matplotlib.lines.Line2D at 0x7fef52d52ed0>]"
      ]
     },
     "execution_count": 409,
     "metadata": {},
     "output_type": "execute_result"
    }
   ],
   "source": [
    "axes.plot('Confirmed', 'Deaths', data=df1_US)"
   ]
  },
  {
   "cell_type": "code",
   "execution_count": 412,
   "metadata": {},
   "outputs": [
    {
     "data": {
      "image/png": "[encoded data removed]",
      "text/plain": [
       "<Figure size 432x288 with 1 Axes>"
      ]
     },
     "execution_count": 412,
     "metadata": {},
     "output_type": "execute_result"
    }
   ],
   "source": [
    "fig"
   ]
  },
  {
   "cell_type": "code",
   "execution_count": 426,
   "metadata": {},
   "outputs": [
    {
     "data": {
      "text/plain": [
       "[<matplotlib.lines.Line2D at 0x7fef53ad9cd0>]"
      ]
     },
     "execution_count": 426,
     "metadata": {},
     "output_type": "execute_result"
    },
    {
     "data": {
      "image/png": "[encoded data removed]",
      "text/plain": [
       "<Figure size 432x288 with 1 Axes>"
      ]
     },
     "metadata": {
      "needs_background": "light"
     },
     "output_type": "display_data"
    }
   ],
   "source": [
    "fig,axes = plt.subplots()\n",
    "axes.plot('Confirmed', 'Deaths', data=df1_US[df1_US['Province/State']=='Washington'])"
   ]
  },
  {
   "cell_type": "code",
   "execution_count": null,
   "metadata": {},
   "outputs": [],
   "source": []
  }
 ],
 "metadata": {
  "kernelspec": {
   "display_name": "Python 3",
   "language": "python",
   "name": "python3"
  },
  "language_info": {
   "codemirror_mode": {
    "name": "ipython",
    "version": 3
   },
   "file_extension": ".py",
   "mimetype": "text/x-python",
   "name": "python",
   "nbconvert_exporter": "python",
   "pygments_lexer": "ipython3",
   "version": "3.7.7"
  }
 },
 "nbformat": 4,
 "nbformat_minor": 4
}
